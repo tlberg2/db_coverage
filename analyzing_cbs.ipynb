{
 "cells": [
  {
   "cell_type": "markdown",
   "metadata": {},
   "source": [
    "# Analyzing coverage scheme among dbs\n",
    "\n",
    "https://www.kaggle.com/ar2017/identifying-coverage-scheme-among-defensive-backs"
   ]
  },
  {
   "cell_type": "markdown",
   "metadata": {},
   "source": [
    "# Note: \n",
    "This was part of my project last semestor for a machine learning and statistical pattern classification class. There were 2 other people in my group, and the goal of this project ended up being very unrealistic for the time constraints.\n",
    "\n",
    "This notebook is really cluttered as a result, and a lot of the cells aren't even in the right order, as I was scrambling to get results for our report."
   ]
  },
  {
   "cell_type": "markdown",
   "metadata": {},
   "source": [
    "# Overview\n",
    "\n",
    "The link above has the code I followed for feature generation, and creating the gmm.\n",
    "\n",
    "The goal of this project was ultimately to compare how different defensive coverages performed against different NFL passing plays.\n",
    "\n",
    "To do this, we analyzed a subset of plays from the data provided in the NFL big data bowl competition. For each play we analyzed, we grouped similar offenses together, and similar defenses together, and created a decision tree to see if there was any significant correlation between the two.\n",
    "\n",
    "The goal of this notebook is to ultimately group similar defensive coverages together. To help with this, we generate new features that let us classify defensive backs (and linebackers, but not as well) as either man-to-man or zone. "
   ]
  },
  {
   "cell_type": "markdown",
   "metadata": {},
   "source": [
    "My part of the project was to create the defense classifier. To do so, I followed the code found here https://www.kaggle.com/ar2017/identifying-coverage-scheme-among-defensive-backs to generate new features from the provided data, and to be make a gaussian mixture model.\n",
    "\n",
    "At the end of this notebook, I also was in the process of comparing different classification algorithms to see which one worked better, but finals and other projects got really busy and my group and I just used the gmm."
   ]
  },
  {
   "cell_type": "markdown",
   "metadata": {},
   "source": []
  },
  {
   "cell_type": "markdown",
   "metadata": {},
   "source": [
    "### imports"
   ]
  },
  {
   "cell_type": "code",
   "execution_count": 2,
   "metadata": {},
   "outputs": [],
   "source": [
    "import pandas as pd\n",
    "import numpy as np\n",
    "import os\n",
    "import seaborn as sns\n",
    "from ipywidgets import interact, fixed\n",
    "from sklearn.mixture import GaussianMixture\n",
    "from sklearn.preprocessing import MinMaxScaler\n",
    "from sklearn.cluster import KMeans"
   ]
  },
  {
   "cell_type": "code",
   "execution_count": 3,
   "metadata": {},
   "outputs": [],
   "source": [
    "import matplotlib.pyplot as plt\n",
    "import matplotlib.patches as patches\n",
    "from matplotlib import animation\n",
    "from matplotlib.animation import FFMpegWriter\n",
    "pd.set_option('max_columns', 100)"
   ]
  },
  {
   "cell_type": "code",
   "execution_count": 4,
   "metadata": {},
   "outputs": [],
   "source": [
    "import dateutil\n",
    "from math import radians"
   ]
  },
  {
   "cell_type": "code",
   "execution_count": 5,
   "metadata": {},
   "outputs": [],
   "source": [
    "#plotting imports\n",
    "from mlxtend.plotting import scatterplotmatrix"
   ]
  },
  {
   "cell_type": "markdown",
   "metadata": {},
   "source": [
    "## preparing the data\n",
    "Note: actually just running this on week1 since 1,2, and 5 together still take a while\n",
    "Note: just running this on weeks 1,2, and 5, running on more weeks was taking way too long"
   ]
  },
  {
   "cell_type": "code",
   "execution_count": 6,
   "metadata": {},
   "outputs": [],
   "source": [
    "# *** just week1 for now\n",
    "def setup_week_data():\n",
    "    DATA_DIR = './data/raw'\n",
    "\n",
    "    PLAY_DIR = DATA_DIR + '/plays.csv'\n",
    "    WEEK_DIR = DATA_DIR + '/games.csv'\n",
    "\n",
    "    plays = pd.read_csv(PLAY_DIR)\n",
    "    week1 = pd.read_csv(DATA_DIR + '/week1.csv')\n",
    "    week2 = pd.read_csv(DATA_DIR + '/week2.csv')\n",
    "    week5 = pd.read_csv(DATA_DIR + '/week5.csv')\n",
    "\n",
    "    week = pd.concat([week1, week2, week5], ignore_index=True)\n",
    "    #week=week1\n",
    "    #weekData = pd.read_csv(DATA_DIR + '/week1.csv')\n",
    "    #week\n",
    "    return week"
   ]
  },
  {
   "cell_type": "markdown",
   "metadata": {},
   "source": [
    "The possible defense positions are: \n",
    "'SS', 'FS', 'MLB', 'CB', 'LB', 'OLB', 'ILB', 'DB', 'DL','NT', 'S', 'DE'\n",
    "Using the features generated from \n",
    "https://www.kaggle.com/ar2017/identifying-coverage-scheme-among-defensive-backs ,\n",
    "we'll try to classify the coverage of the defensive backs (SS, FS, S, CB) as man or zone, and we'll try to use it for linebackers too, but we aren't sure how well these features will work for linebackers.\n"
   ]
  },
  {
   "cell_type": "code",
   "execution_count": 7,
   "metadata": {},
   "outputs": [],
   "source": [
    "# this gives an event to every row, instead of having \"none\". \n",
    "# the new events are: 'ball_snap', 'between_snap', 'after_thrown'\n",
    "\n",
    "# week: a data frame from '.../week{i}.csv'\n",
    "# returns: the dataframe with events all either 'ball_snap', \n",
    "# 'between_snap', 'pass_forward', or 'after_thrown'\n",
    "def convert_events_cols(week):\n",
    "    weekArray = np.array(week)\n",
    "    previousEvent = 'ball_snap'\n",
    "    for i, instance in enumerate(weekArray):\n",
    "        event = instance[8]\n",
    "        frameId = instance[13]\n",
    "        if (previousEvent == 'ball_snap' and event != 'ball_snap') or frameId == 1:\n",
    "            weekArray[i][8] = 'ball_snap'\n",
    "            previousEvent = 'ball_snap'\n",
    "        elif (event == 'ball_snap'):\n",
    "            previousEvent = 'between_snap'\n",
    "        elif (previousEvent == 'between_snap' and event != 'pass_forward'):\n",
    "            weekArray[i][8] = 'between_snap'\n",
    "            previousEvent = 'between_snap'\n",
    "        elif (event == 'pass_forward'):\n",
    "            weekArray[i][8] = 'after_thrown'\n",
    "            previousEvent = 'after_thrown'\n",
    "        elif (previousEvent == 'after_thrown' and frameId != 1):\n",
    "            weekArray[i][8] = 'after_thrown'\n",
    "            previousEvent = 'after_thrown'\n",
    "\n",
    "    weekMod = pd.DataFrame(weekArray, columns=week.columns)\n",
    "    week['event'] = weekMod['event']\n",
    "    weekMod = week\n",
    "    return weekMod"
   ]
  },
  {
   "cell_type": "code",
   "execution_count": 160,
   "metadata": {},
   "outputs": [],
   "source": [
    "# weekMod = convert_events_cols(week)"
   ]
  },
  {
   "cell_type": "markdown",
   "metadata": {},
   "source": [
    "## Now we have to generate the features"
   ]
  },
  {
   "cell_type": "markdown",
   "metadata": {},
   "source": [
    "From the link:\n",
    "\n",
    "In the paper, there are 11 features that can be estimated at different points throughout the play that characterize the type of coverage scheme:\n",
    "\n",
    "varX: Variance in the x coordinate <br>\n",
    "varY: Variance in the y coordinate <br>\n",
    "varS: Variance in the speed <br>\n",
    "offVar: Variance in the distance from the nearest offensive player at every frame <br>\n",
    "defVar: Variance in the distance from the nearest defensive player at every frame <br>\n",
    "offMean: Mean distance from the nearest offensive player at every frame <br>\n",
    "defMean: Mean distance from the nearest defensive player at every frame <br>\n",
    "offDirVar: Variance in the difference in de- grees of the direction of motion between the player and the nearest offensive player <br>\n",
    "offDirMean: Mean difference in degrees of the direction of motion between the player and the nearest offensive player <br>\n",
    "ratMean: Mean ratio of the distance to the nearest offensive player and the distance from the nearest offensive player to the nearest defensive player <br>\n",
    "ratVar: Variance of the ratio of the distance to the nearest offensive player and the distance from the nearest offensive player to the nearest defensive player <br><br>\n",
    "These features are specific for defensive backs. But, I'll generate features for all players (defensive and offensive) to use for further analysis. So, a bit of generalization is required to do that. For instance, offVar is basically the variance in the distance from the nearest opponent player and defVar is the variance in the distance from the nearest team mate. So, I change the name of some features a little bit:\n",
    "\n",
    "varX: Variance in the x coordinate <br>\n",
    "varY: Variance in the y coordinate <br>\n",
    "varS: Variance in the speed <br>\n",
    "oppVar: Variance in the distance from the nearest opponent player at every frame <br>\n",
    "mateVar: Variance in the distance from the nearest team mate at every frame <br>\n",
    "oppMean: Mean distance from the nearest opponent player at every frame <br>\n",
    "mateMean: Mean distance from the nearest team mate at every frame <br>\n",
    "oppDirVar: Variance in the difference in degrees of the direction of motion between the player and the nearest opponent player <br>\n",
    "oppDirMean: Mean difference in degrees of the direction of motion between the player and the nearest opponent player <br>\n",
    "ratMean: Mean ratio of the distance to the nearest opponent player and the distance from the nearest opponent player to the nearest team mate <br>\n",
    "ratVar: Variance of the ratio of the distance to the nearest opponent  player and the distance from the nearest opponent player to the nearest team mate"
   ]
  },
  {
   "cell_type": "markdown",
   "metadata": {},
   "source": [
    "#### var (x,y) coord and speed"
   ]
  },
  {
   "cell_type": "code",
   "execution_count": 8,
   "metadata": {},
   "outputs": [],
   "source": [
    "# weekMod - a dataframe from '../week{i}.csv'\n",
    "def var_x_y_speed(weekMod):\n",
    "    #print(type(weekMod))\n",
    "    varX = weekMod.groupby(['gameId', 'playId', 'event', 'nflId'])['x'].agg(['var']).reset_index().rename(columns={\"var\": \"varX\"})\n",
    "    varY = weekMod.groupby(['gameId', 'playId', 'event', 'nflId'])['y'].agg(['var']).reset_index().rename(columns={\"var\": \"varY\"})\n",
    "    varS = weekMod.groupby(['gameId', 'playId', 'event', 'nflId'])['s'].agg(['var']).reset_index().rename(columns={\"var\": \"varS\"})\n",
    "    return varX, varY, varS"
   ]
  },
  {
   "cell_type": "markdown",
   "metadata": {},
   "source": [
    "#### Mean and variance distance from nearest opponent player"
   ]
  },
  {
   "cell_type": "code",
   "execution_count": 9,
   "metadata": {},
   "outputs": [],
   "source": [
    "def dist_mean_var_opponent_player(weekMod):\n",
    "    #print(type(weekMod))\n",
    "    groupedWeek = weekMod.groupby(['gameId', 'playId', 'frameId'])\n",
    "    playerXY = {}\n",
    "    for name, group in groupedWeek:\n",
    "        playerXY[name] = []\n",
    "        for row in group.iterrows():\n",
    "            data = [row[1]['nflId'], row[1]['team'], row[1]['x'], row[1]['y'], row[1]['dir']]\n",
    "            playerXY[name].append(data)\n",
    "\n",
    "    features = list(weekMod.columns)\n",
    "    weekArray = np.array(weekMod)\n",
    "    minOppDist = []\n",
    "    for player in weekArray:\n",
    "        if player[features.index('team')] != 'football':\n",
    "            opponentPositions = playerXY[(player[features.index('gameId')], player[features.index('playId')], player[features.index('frameId')])]\n",
    "            distances = []\n",
    "            directions = []\n",
    "            opponents = []\n",
    "            xs = []\n",
    "            ys = []\n",
    "            for oppPos in opponentPositions: \n",
    "                if player[features.index('team')] != oppPos[1] and player[features.index('team')] != 'football' and oppPos[1] != 'football':\n",
    "                    dx = (player[features.index('x')] - oppPos[2])**2\n",
    "                    dy = (player[features.index('y')] - oppPos[3])**2\n",
    "                    dist = np.sqrt(dx+dy)\n",
    "                    distances.append(dist)\n",
    "                    directions.append(oppPos[4])\n",
    "                    opponents.append(oppPos[0])\n",
    "                    xs.append(oppPos[2])\n",
    "                    ys.append(oppPos[3])\n",
    "            minDist = min(distances)\n",
    "            closestOpponent = opponents[np.argmin(distances)]\n",
    "            opponentDir = directions[np.argmin(distances)]\n",
    "            opponentX = xs[np.argmin(distances)]\n",
    "            opponentY = ys[np.argmin(distances)]\n",
    "            summary = [player[features.index('gameId')], player[features.index('playId')], player[features.index('frameId')], player[features.index('nflId')], minDist, closestOpponent, opponentDir, opponentX, opponentY]\n",
    "            #so minDist is the min distance of the opponent, and summary has a unique identifier, \n",
    "            # the closest player's minimum distance (minDist), the closest player (closestOpponent), his\n",
    "            # direction, his x and his y coords.\n",
    "            \n",
    "            # so minOppDist should have all the right data, and I might just have to give it the right colnames \n",
    "            minOppDist.append(summary)\n",
    "     \n",
    "    minOppDist = pd.DataFrame(minOppDist, columns=['gameId', 'playId', 'frameId', 'nflId', 'oppMinDist', 'closestOpp(nflId)', 'oppDir', 'oppX', 'oppY'])\n",
    "    weekMod = pd.merge(weekMod, minOppDist, how='left', on=['gameId', 'frameId', 'playId', 'nflId'])\n",
    "\n",
    "    oppVar = weekMod.groupby(['gameId', 'playId', 'event', 'nflId'])['oppMinDist'].agg(['var']).reset_index().rename(columns={\"var\": \"oppVar\"})\n",
    "    oppMean = weekMod.groupby(['gameId', 'playId', 'event', 'nflId'])['oppMinDist'].agg(['mean']).reset_index().rename(columns={\"mean\": \"oppMean\"})\n",
    "    return weekMod, minOppDist, oppVar, oppMean, playerXY\n",
    "    "
   ]
  },
  {
   "cell_type": "markdown",
   "metadata": {},
   "source": [
    "#### Mean and variance distance from closest teammate"
   ]
  },
  {
   "cell_type": "code",
   "execution_count": 10,
   "metadata": {},
   "outputs": [],
   "source": [
    "#Note: have to call dist_mean_var_opponent_player(weekMod) first to get playerXY\n",
    "def dist_mean_var_team_mate(weekMod, playerXY):\n",
    "    features = list(weekMod.columns)\n",
    "    weekArray = np.array(weekMod)\n",
    "    minMateDist = []\n",
    "    for player in weekArray:\n",
    "        if player[features.index('team')] != 'football':\n",
    "            matePositions = playerXY[(player[features.index('gameId')], player[features.index('playId')], player[features.index('frameId')])]\n",
    "            distances = []\n",
    "            mates = []\n",
    "            xs = []\n",
    "            ys = []\n",
    "            for matePos in matePositions: \n",
    "                if player[features.index('team')] == matePos[1] and player[features.index('nflId')] != matePos[0] and player[features.index('team')] != 'football' and matePos[1] != 'football':\n",
    "                    dx = (player[features.index('x')] - matePos[2])**2\n",
    "                    dy = (player[features.index('y')] - matePos[3])**2\n",
    "                    dist = np.sqrt(dx+dy)\n",
    "                    distances.append(dist)\n",
    "                    mates.append(matePos[0])\n",
    "                    #Found a bug in the code -> was probably a copy and paste error from the opposing player one\n",
    "                    #xs.append(oppPos[2])\n",
    "                    #ys.append(oppPos[3])\n",
    "                    xs.append(matePos[2])\n",
    "                    ys.append(matePos[3])\n",
    "            minDist = min(distances)\n",
    "            closestMate = mates[np.argmin(distances)]\n",
    "            mateX = xs[np.argmin(distances)]\n",
    "            mateY = ys[np.argmin(distances)]\n",
    "            summary = [player[features.index('gameId')], player[features.index('playId')], player[features.index('frameId')], player[features.index('nflId')], minDist, closestMate, mateX, mateY]\n",
    "            minMateDist.append(summary)\n",
    "\n",
    "    minMateDist = pd.DataFrame(minMateDist, columns=['gameId', 'playId', 'frameId', 'nflId', 'mateMinDist', 'closestMate(nflId)', 'mateX', 'mateY'])\n",
    "    weekMod = pd.merge(weekMod, minMateDist, how='left', on=['gameId', 'frameId', 'playId', 'nflId'])\n",
    "    mateVar = weekMod.groupby(['gameId', 'playId', 'event', 'nflId'])['mateMinDist'].agg(['var']).reset_index().rename(columns={\"var\": \"mateVar\"})\n",
    "    mateMean = weekMod.groupby(['gameId', 'playId', 'event', 'nflId'])['mateMinDist'].agg(['mean']).reset_index().rename(columns={\"mean\": \"mateMean\"})\n",
    "    return weekMod, minMateDist, mateVar, mateMean \n",
    "# #TODO - not sure if he uses mateVar, mateMean after this method, returning just in case"
   ]
  },
  {
   "cell_type": "markdown",
   "metadata": {},
   "source": [
    "#### Mean and variance difference in degrees of the direction of motion between the player and the nearest opponent player"
   ]
  },
  {
   "cell_type": "code",
   "execution_count": 11,
   "metadata": {},
   "outputs": [],
   "source": [
    "def dir_mean_var_deg_opponent(weekMod):\n",
    "    diffDir = np.absolute(weekMod['dir'] - weekMod['oppDir'])\n",
    "    weekMod['diffDir'] = diffDir\n",
    "    oppDirVar = weekMod.groupby(['gameId', 'playId', 'event', 'nflId'])['diffDir'].agg(['var']).reset_index().rename(columns={\"var\": \"oppDirVar\"})\n",
    "    oppDirMean = weekMod.groupby(['gameId', 'playId', 'event', 'nflId'])['diffDir'].agg(['mean']).reset_index().rename(columns={\"mean\": \"oppDirMean\"})\n",
    "    return weekMod, oppDirVar, oppDirMean\n"
   ]
  },
  {
   "cell_type": "markdown",
   "metadata": {},
   "source": [
    "#### Mean and variance ratio of the distance to the nearest opponent player and the distance from the nearest opponent player to the nearest teammate"
   ]
  },
  {
   "cell_type": "code",
   "execution_count": 12,
   "metadata": {},
   "outputs": [],
   "source": [
    "def mean_var_ratio_opp_mate_dist_ratio(weekMod):\n",
    "    ratio = weekMod['oppMinDist'] / np.sqrt((weekMod['oppX'] - weekMod['mateX'])**2 + (weekMod['oppY'] - weekMod['mateY'])**2)\n",
    "    weekMod['oppMateDistRatio'] = ratio\n",
    "    oppMateDistRatioMean = weekMod.groupby(['gameId', 'playId', 'event', 'nflId'])['oppMateDistRatio'].agg(['mean']).reset_index().rename(columns={\"mean\": \"meanOppMateDistRatio\"})\n",
    "    oppMateDistRatioVar = weekMod.groupby(['gameId', 'playId', 'event', 'nflId'])['oppMateDistRatio'].agg(['var']).reset_index().rename(columns={\"var\": \"varOppMateDistRatio\"})\n",
    "    return weekMod, oppMateDistRatioMean, oppMateDistRatioVar\n",
    "    "
   ]
  },
  {
   "cell_type": "markdown",
   "metadata": {},
   "source": [
    "## After calling all of the above methods in order, you can now combine the results into the dataframe that we'll end up using for clustering\n"
   ]
  },
  {
   "cell_type": "markdown",
   "metadata": {},
   "source": [
    "## Now we have all the methods set up and can use them\n"
   ]
  },
  {
   "cell_type": "code",
   "execution_count": 102,
   "metadata": {},
   "outputs": [],
   "source": [
    "week = setup_week_data()"
   ]
  },
  {
   "cell_type": "code",
   "execution_count": 103,
   "metadata": {},
   "outputs": [],
   "source": [
    "weekMod = convert_events_cols(week)\n"
   ]
  },
  {
   "cell_type": "code",
   "execution_count": 104,
   "metadata": {},
   "outputs": [],
   "source": [
    "varX, varY, varS = var_x_y_speed(pd.DataFrame(weekMod, columns=week.columns))\n"
   ]
  },
  {
   "cell_type": "code",
   "execution_count": 105,
   "metadata": {
    "scrolled": true
   },
   "outputs": [],
   "source": [
    "weekMod, minOppDist, oppVar, oppMean, playerXY = dist_mean_var_opponent_player(weekMod)\n"
   ]
  },
  {
   "cell_type": "code",
   "execution_count": 106,
   "metadata": {},
   "outputs": [],
   "source": [
    "weekMod, minMateDist, mateVar, mateMean = dist_mean_var_team_mate(weekMod, playerXY)\n"
   ]
  },
  {
   "cell_type": "code",
   "execution_count": 107,
   "metadata": {},
   "outputs": [],
   "source": [
    "weekMod, oppDirVar, oppDirMean = dir_mean_var_deg_opponent(weekMod)\n"
   ]
  },
  {
   "cell_type": "code",
   "execution_count": 108,
   "metadata": {},
   "outputs": [],
   "source": [
    "weekMod, oppMateDistRatioMean, oppMateDistRatioVar = mean_var_ratio_opp_mate_dist_ratio(weekMod)\n"
   ]
  },
  {
   "cell_type": "code",
   "execution_count": null,
   "metadata": {},
   "outputs": [],
   "source": []
  },
  {
   "cell_type": "markdown",
   "metadata": {},
   "source": [
    "## Now all of the new features have been generated, and we should concatenate them into a single dataframe to run our clustering algorithm on\n",
    "\n",
    "The next cell concatenates all of the generated features into one dataframe (features), and then merges it into our weekMod dataframe. "
   ]
  },
  {
   "cell_type": "code",
   "execution_count": 109,
   "metadata": {},
   "outputs": [],
   "source": [
    "write_to_csv = False\n",
    "features = [varX, varY, varS, oppVar, oppMean, mateVar, mateMean, oppDirVar, oppDirMean, oppMateDistRatioMean, oppMateDistRatioVar]\n",
    "for feature in features:\n",
    "    weekMod = pd.merge(weekMod, feature, how='left', on=['gameId', 'event', 'playId', 'nflId'])\n",
    "    \n",
    "if write_to_csv:\n",
    "    DATA_DIR = './data/raw'\n",
    "    filename = 'def_generated_features_weeks_' + str(1) + '.csv'#+ '_' + str(2) + '_' + str(5) + '.csv'\n",
    "    filepath = DATA_DIR + '/' + filename\n",
    "    print(filepath)\n",
    "    #print(.to_csv())\n",
    "    weekMod.to_csv(filepath)"
   ]
  },
  {
   "cell_type": "code",
   "execution_count": 110,
   "metadata": {},
   "outputs": [
    {
     "data": {
      "text/html": [
       "<div>\n",
       "<style scoped>\n",
       "    .dataframe tbody tr th:only-of-type {\n",
       "        vertical-align: middle;\n",
       "    }\n",
       "\n",
       "    .dataframe tbody tr th {\n",
       "        vertical-align: top;\n",
       "    }\n",
       "\n",
       "    .dataframe thead th {\n",
       "        text-align: right;\n",
       "    }\n",
       "</style>\n",
       "<table border=\"1\" class=\"dataframe\">\n",
       "  <thead>\n",
       "    <tr style=\"text-align: right;\">\n",
       "      <th></th>\n",
       "      <th>time</th>\n",
       "      <th>x</th>\n",
       "      <th>y</th>\n",
       "      <th>s</th>\n",
       "      <th>a</th>\n",
       "      <th>dis</th>\n",
       "      <th>o</th>\n",
       "      <th>dir</th>\n",
       "      <th>event</th>\n",
       "      <th>nflId</th>\n",
       "      <th>displayName</th>\n",
       "      <th>jerseyNumber</th>\n",
       "      <th>position</th>\n",
       "      <th>frameId</th>\n",
       "      <th>team</th>\n",
       "      <th>gameId</th>\n",
       "      <th>playId</th>\n",
       "      <th>playDirection</th>\n",
       "      <th>route</th>\n",
       "      <th>oppMinDist</th>\n",
       "      <th>closestOpp(nflId)</th>\n",
       "      <th>oppDir</th>\n",
       "      <th>oppX</th>\n",
       "      <th>oppY</th>\n",
       "      <th>mateMinDist</th>\n",
       "      <th>closestMate(nflId)</th>\n",
       "      <th>mateX</th>\n",
       "      <th>mateY</th>\n",
       "      <th>diffDir</th>\n",
       "      <th>oppMateDistRatio</th>\n",
       "      <th>varX</th>\n",
       "      <th>varY</th>\n",
       "      <th>varS</th>\n",
       "      <th>oppVar</th>\n",
       "      <th>oppMean</th>\n",
       "      <th>mateVar</th>\n",
       "      <th>mateMean</th>\n",
       "      <th>oppDirVar</th>\n",
       "      <th>oppDirMean</th>\n",
       "      <th>meanOppMateDistRatio</th>\n",
       "      <th>varOppMateDistRatio</th>\n",
       "    </tr>\n",
       "  </thead>\n",
       "  <tbody>\n",
       "    <tr>\n",
       "      <th>0</th>\n",
       "      <td>2018-09-07T01:07:14.599Z</td>\n",
       "      <td>91.73</td>\n",
       "      <td>26.67</td>\n",
       "      <td>0.00</td>\n",
       "      <td>0.01</td>\n",
       "      <td>0.02</td>\n",
       "      <td>289.57</td>\n",
       "      <td>240.93</td>\n",
       "      <td>ball_snap</td>\n",
       "      <td>310.0</td>\n",
       "      <td>Matt Ryan</td>\n",
       "      <td>2.0</td>\n",
       "      <td>QB</td>\n",
       "      <td>1</td>\n",
       "      <td>away</td>\n",
       "      <td>2018090600</td>\n",
       "      <td>75</td>\n",
       "      <td>left</td>\n",
       "      <td>NaN</td>\n",
       "      <td>6.100525</td>\n",
       "      <td>2558175.0</td>\n",
       "      <td>38.80</td>\n",
       "      <td>85.63</td>\n",
       "      <td>26.59</td>\n",
       "      <td>3.400235</td>\n",
       "      <td>2559033.0</td>\n",
       "      <td>95.13</td>\n",
       "      <td>26.71</td>\n",
       "      <td>202.13</td>\n",
       "      <td>0.642109</td>\n",
       "      <td>0.000009</td>\n",
       "      <td>0.000062</td>\n",
       "      <td>0.000000</td>\n",
       "      <td>0.000504</td>\n",
       "      <td>6.063867</td>\n",
       "      <td>0.000046</td>\n",
       "      <td>3.393964</td>\n",
       "      <td>50.527362</td>\n",
       "      <td>199.977273</td>\n",
       "      <td>0.641170</td>\n",
       "      <td>4.278920e-07</td>\n",
       "    </tr>\n",
       "    <tr>\n",
       "      <th>1</th>\n",
       "      <td>2018-09-07T01:07:14.599Z</td>\n",
       "      <td>88.89</td>\n",
       "      <td>36.47</td>\n",
       "      <td>0.01</td>\n",
       "      <td>0.01</td>\n",
       "      <td>0.01</td>\n",
       "      <td>105.63</td>\n",
       "      <td>66.66</td>\n",
       "      <td>ball_snap</td>\n",
       "      <td>79848.0</td>\n",
       "      <td>Malcolm Jenkins</td>\n",
       "      <td>27.0</td>\n",
       "      <td>SS</td>\n",
       "      <td>1</td>\n",
       "      <td>home</td>\n",
       "      <td>2018090600</td>\n",
       "      <td>75</td>\n",
       "      <td>left</td>\n",
       "      <td>NaN</td>\n",
       "      <td>1.916899</td>\n",
       "      <td>2533040.0</td>\n",
       "      <td>193.97</td>\n",
       "      <td>90.78</td>\n",
       "      <td>36.15</td>\n",
       "      <td>5.867759</td>\n",
       "      <td>2552315.0</td>\n",
       "      <td>86.48</td>\n",
       "      <td>31.12</td>\n",
       "      <td>127.31</td>\n",
       "      <td>0.289672</td>\n",
       "      <td>0.000036</td>\n",
       "      <td>0.000189</td>\n",
       "      <td>0.000000</td>\n",
       "      <td>0.000025</td>\n",
       "      <td>1.918109</td>\n",
       "      <td>0.000972</td>\n",
       "      <td>5.882770</td>\n",
       "      <td>2637.883442</td>\n",
       "      <td>193.817273</td>\n",
       "      <td>0.290676</td>\n",
       "      <td>5.083461e-06</td>\n",
       "    </tr>\n",
       "    <tr>\n",
       "      <th>2</th>\n",
       "      <td>2018-09-07T01:07:14.599Z</td>\n",
       "      <td>91.35</td>\n",
       "      <td>44.16</td>\n",
       "      <td>0.02</td>\n",
       "      <td>0.03</td>\n",
       "      <td>0.01</td>\n",
       "      <td>290.45</td>\n",
       "      <td>16.86</td>\n",
       "      <td>ball_snap</td>\n",
       "      <td>2495454.0</td>\n",
       "      <td>Julio Jones</td>\n",
       "      <td>11.0</td>\n",
       "      <td>WR</td>\n",
       "      <td>1</td>\n",
       "      <td>away</td>\n",
       "      <td>2018090600</td>\n",
       "      <td>75</td>\n",
       "      <td>left</td>\n",
       "      <td>HITCH</td>\n",
       "      <td>7.380474</td>\n",
       "      <td>2555383.0</td>\n",
       "      <td>110.32</td>\n",
       "      <td>84.00</td>\n",
       "      <td>43.49</td>\n",
       "      <td>8.030255</td>\n",
       "      <td>2533040.0</td>\n",
       "      <td>90.78</td>\n",
       "      <td>36.15</td>\n",
       "      <td>93.46</td>\n",
       "      <td>0.738624</td>\n",
       "      <td>0.000096</td>\n",
       "      <td>0.000147</td>\n",
       "      <td>0.000067</td>\n",
       "      <td>0.001877</td>\n",
       "      <td>7.415220</td>\n",
       "      <td>0.000221</td>\n",
       "      <td>8.025493</td>\n",
       "      <td>1942.248702</td>\n",
       "      <td>110.977273</td>\n",
       "      <td>0.742585</td>\n",
       "      <td>1.202835e-05</td>\n",
       "    </tr>\n",
       "    <tr>\n",
       "      <th>3</th>\n",
       "      <td>2018-09-07T01:07:14.599Z</td>\n",
       "      <td>86.31</td>\n",
       "      <td>22.01</td>\n",
       "      <td>0.09</td>\n",
       "      <td>0.42</td>\n",
       "      <td>0.01</td>\n",
       "      <td>70.12</td>\n",
       "      <td>168.91</td>\n",
       "      <td>ball_snap</td>\n",
       "      <td>2495613.0</td>\n",
       "      <td>Corey Graham</td>\n",
       "      <td>24.0</td>\n",
       "      <td>FS</td>\n",
       "      <td>1</td>\n",
       "      <td>home</td>\n",
       "      <td>2018090600</td>\n",
       "      <td>75</td>\n",
       "      <td>left</td>\n",
       "      <td>NaN</td>\n",
       "      <td>4.983252</td>\n",
       "      <td>2555415.0</td>\n",
       "      <td>151.83</td>\n",
       "      <td>91.29</td>\n",
       "      <td>21.83</td>\n",
       "      <td>3.929377</td>\n",
       "      <td>2552689.0</td>\n",
       "      <td>82.67</td>\n",
       "      <td>20.53</td>\n",
       "      <td>17.08</td>\n",
       "      <td>0.571639</td>\n",
       "      <td>0.003216</td>\n",
       "      <td>0.000187</td>\n",
       "      <td>0.001645</td>\n",
       "      <td>0.002955</td>\n",
       "      <td>4.912147</td>\n",
       "      <td>0.005817</td>\n",
       "      <td>4.013412</td>\n",
       "      <td>463.282687</td>\n",
       "      <td>63.215455</td>\n",
       "      <td>0.562519</td>\n",
       "      <td>5.588078e-05</td>\n",
       "    </tr>\n",
       "    <tr>\n",
       "      <th>4</th>\n",
       "      <td>2018-09-07T01:07:14.599Z</td>\n",
       "      <td>90.78</td>\n",
       "      <td>36.15</td>\n",
       "      <td>0.00</td>\n",
       "      <td>0.00</td>\n",
       "      <td>0.00</td>\n",
       "      <td>257.61</td>\n",
       "      <td>193.97</td>\n",
       "      <td>ball_snap</td>\n",
       "      <td>2533040.0</td>\n",
       "      <td>Mohamed Sanu</td>\n",
       "      <td>12.0</td>\n",
       "      <td>WR</td>\n",
       "      <td>1</td>\n",
       "      <td>away</td>\n",
       "      <td>2018090600</td>\n",
       "      <td>75</td>\n",
       "      <td>left</td>\n",
       "      <td>HITCH</td>\n",
       "      <td>1.916899</td>\n",
       "      <td>79848.0</td>\n",
       "      <td>66.66</td>\n",
       "      <td>88.89</td>\n",
       "      <td>36.47</td>\n",
       "      <td>8.030255</td>\n",
       "      <td>2495454.0</td>\n",
       "      <td>91.35</td>\n",
       "      <td>44.16</td>\n",
       "      <td>127.31</td>\n",
       "      <td>0.237419</td>\n",
       "      <td>0.000000</td>\n",
       "      <td>0.000016</td>\n",
       "      <td>0.000000</td>\n",
       "      <td>0.000025</td>\n",
       "      <td>1.918109</td>\n",
       "      <td>0.000221</td>\n",
       "      <td>8.025493</td>\n",
       "      <td>2637.883442</td>\n",
       "      <td>193.817273</td>\n",
       "      <td>0.238053</td>\n",
       "      <td>7.417441e-07</td>\n",
       "    </tr>\n",
       "  </tbody>\n",
       "</table>\n",
       "</div>"
      ],
      "text/plain": [
       "                       time      x      y     s     a   dis       o     dir  \\\n",
       "0  2018-09-07T01:07:14.599Z  91.73  26.67  0.00  0.01  0.02  289.57  240.93   \n",
       "1  2018-09-07T01:07:14.599Z  88.89  36.47  0.01  0.01  0.01  105.63   66.66   \n",
       "2  2018-09-07T01:07:14.599Z  91.35  44.16  0.02  0.03  0.01  290.45   16.86   \n",
       "3  2018-09-07T01:07:14.599Z  86.31  22.01  0.09  0.42  0.01   70.12  168.91   \n",
       "4  2018-09-07T01:07:14.599Z  90.78  36.15  0.00  0.00  0.00  257.61  193.97   \n",
       "\n",
       "       event      nflId      displayName  jerseyNumber position  frameId  \\\n",
       "0  ball_snap      310.0        Matt Ryan           2.0       QB        1   \n",
       "1  ball_snap    79848.0  Malcolm Jenkins          27.0       SS        1   \n",
       "2  ball_snap  2495454.0      Julio Jones          11.0       WR        1   \n",
       "3  ball_snap  2495613.0     Corey Graham          24.0       FS        1   \n",
       "4  ball_snap  2533040.0     Mohamed Sanu          12.0       WR        1   \n",
       "\n",
       "   team      gameId  playId playDirection  route  oppMinDist  \\\n",
       "0  away  2018090600      75          left    NaN    6.100525   \n",
       "1  home  2018090600      75          left    NaN    1.916899   \n",
       "2  away  2018090600      75          left  HITCH    7.380474   \n",
       "3  home  2018090600      75          left    NaN    4.983252   \n",
       "4  away  2018090600      75          left  HITCH    1.916899   \n",
       "\n",
       "   closestOpp(nflId)  oppDir   oppX   oppY  mateMinDist  closestMate(nflId)  \\\n",
       "0          2558175.0   38.80  85.63  26.59     3.400235           2559033.0   \n",
       "1          2533040.0  193.97  90.78  36.15     5.867759           2552315.0   \n",
       "2          2555383.0  110.32  84.00  43.49     8.030255           2533040.0   \n",
       "3          2555415.0  151.83  91.29  21.83     3.929377           2552689.0   \n",
       "4            79848.0   66.66  88.89  36.47     8.030255           2495454.0   \n",
       "\n",
       "   mateX  mateY  diffDir  oppMateDistRatio      varX      varY      varS  \\\n",
       "0  95.13  26.71   202.13          0.642109  0.000009  0.000062  0.000000   \n",
       "1  86.48  31.12   127.31          0.289672  0.000036  0.000189  0.000000   \n",
       "2  90.78  36.15    93.46          0.738624  0.000096  0.000147  0.000067   \n",
       "3  82.67  20.53    17.08          0.571639  0.003216  0.000187  0.001645   \n",
       "4  91.35  44.16   127.31          0.237419  0.000000  0.000016  0.000000   \n",
       "\n",
       "     oppVar   oppMean   mateVar  mateMean    oppDirVar  oppDirMean  \\\n",
       "0  0.000504  6.063867  0.000046  3.393964    50.527362  199.977273   \n",
       "1  0.000025  1.918109  0.000972  5.882770  2637.883442  193.817273   \n",
       "2  0.001877  7.415220  0.000221  8.025493  1942.248702  110.977273   \n",
       "3  0.002955  4.912147  0.005817  4.013412   463.282687   63.215455   \n",
       "4  0.000025  1.918109  0.000221  8.025493  2637.883442  193.817273   \n",
       "\n",
       "   meanOppMateDistRatio  varOppMateDistRatio  \n",
       "0              0.641170         4.278920e-07  \n",
       "1              0.290676         5.083461e-06  \n",
       "2              0.742585         1.202835e-05  \n",
       "3              0.562519         5.588078e-05  \n",
       "4              0.238053         7.417441e-07  "
      ]
     },
     "execution_count": 110,
     "metadata": {},
     "output_type": "execute_result"
    }
   ],
   "source": [
    "weekMod.head()"
   ]
  },
  {
   "cell_type": "markdown",
   "metadata": {},
   "source": []
  },
  {
   "cell_type": "code",
   "execution_count": 117,
   "metadata": {},
   "outputs": [],
   "source": [
    "plays_coverages_s_cb = []"
   ]
  },
  {
   "cell_type": "markdown",
   "metadata": {},
   "source": [
    "# Clustering - Cornerback Man vs. Zone\n",
    "\n",
    "We start out with a knn model, evaluate it, do the same with a kmeans model, and then again with dbscan\n"
   ]
  },
  {
   "cell_type": "code",
   "execution_count": 39,
   "metadata": {},
   "outputs": [
    {
     "data": {
      "text/plain": [
       "Index(['time', 'x', 'y', 's', 'a', 'dis', 'o', 'dir', 'event', 'nflId',\n",
       "       'displayName', 'jerseyNumber', 'position', 'frameId', 'team', 'gameId',\n",
       "       'playId', 'playDirection', 'route', 'oppMinDist', 'closestOpp(nflId)',\n",
       "       'oppDir', 'oppX', 'oppY', 'mateMinDist', 'closestMate(nflId)', 'mateX',\n",
       "       'mateY', 'diffDir', 'oppMateDistRatio'],\n",
       "      dtype='object')"
      ]
     },
     "execution_count": 39,
     "metadata": {},
     "output_type": "execute_result"
    }
   ],
   "source": [
    "delete = weekMod.loc[weekMod['position']=='CB'][weekMod.columns[30:]].dropna()\n",
    "delete.head()\n",
    "weekMod.columns"
   ]
  },
  {
   "cell_type": "code",
   "execution_count": 53,
   "metadata": {},
   "outputs": [
    {
     "data": {
      "text/plain": [
       "(657637, 11)"
      ]
     },
     "execution_count": 53,
     "metadata": {},
     "output_type": "execute_result"
    }
   ],
   "source": [
    "weekMod.loc[weekMod['position']=='CB'][weekMod.columns[30:]].shape\n",
    "#weekMod.head()"
   ]
  },
  {
   "cell_type": "code",
   "execution_count": 89,
   "metadata": {},
   "outputs": [
    {
     "data": {
      "text/plain": [
       "GaussianMixture(n_components=2, random_state=42)"
      ]
     },
     "execution_count": 89,
     "metadata": {},
     "output_type": "execute_result"
    }
   ],
   "source": [
    "# Note: weekMod is for week 1 rn\n",
    "\n",
    "Xcb = weekMod.loc[weekMod['position']=='CB'][weekMod.columns[30:]].dropna()\n",
    "xcbTrain = Xcb.drop_duplicates()\n",
    "scaler = MinMaxScaler()\n",
    "scaler.fit(xcbTrain)\n",
    "xcbTrainScaled = scaler.transform(xcbTrain)\n",
    "\n",
    "# Set and train the Gaussian mixture model\n",
    "gmm_cb = GaussianMixture(n_components=2, covariance_type='full', random_state=42)\n",
    "gmm_cb.fit(xcbTrainScaled)"
   ]
  },
  {
   "cell_type": "code",
   "execution_count": 90,
   "metadata": {},
   "outputs": [],
   "source": [
    "# Make class prediction and probability estimation\n",
    "#scaled training, so should also scale when predicting\n",
    "pred_cb = gmm_cb.predict(scaler.transform(Xcb))\n",
    "prob_cb = gmm_cb.predict_proba(scaler.transform(Xcb)) #predict all \n",
    "\n",
    "# Join the class prediction and probability estimation into our main dataframe\n",
    "Xcb['clusterCB'] = pred_cb\n",
    "Xcb['clusterCB_prob'] = prob_cb[:,0]\n",
    "weekFinCB = weekMod.join(Xcb[['clusterCB', 'clusterCB_prob']]) "
   ]
  },
  {
   "cell_type": "code",
   "execution_count": null,
   "metadata": {},
   "outputs": [],
   "source": [
    "t = weekFinCB.loc[weekFinCB['position']=='CB']\n",
    "print(f'shape of the resulting data: {t.shape}')\n",
    "t.head()"
   ]
  },
  {
   "cell_type": "markdown",
   "metadata": {},
   "source": [
    "### Now trying kmeans"
   ]
  },
  {
   "cell_type": "code",
   "execution_count": 122,
   "metadata": {},
   "outputs": [
    {
     "data": {
      "image/png": "[encoded data removed]",
      "text/plain": [
       "<Figure size 432x288 with 1 Axes>"
      ]
     },
     "metadata": {
      "needs_background": "light"
     },
     "output_type": "display_data"
    },
    {
     "data": {
      "text/plain": [
       "array([0, 1, 0, ..., 0, 0, 0], dtype=int32)"
      ]
     },
     "execution_count": 122,
     "metadata": {},
     "output_type": "execute_result"
    }
   ],
   "source": [
    "Xcb = weekMod.loc[weekMod['position']=='CB'][weekMod.columns[30:]].dropna()\n",
    "xcbTrain = Xcb#.drop_duplicates()\n",
    "scaler = MinMaxScaler()\n",
    "scaler.fit(xcbTrain)\n",
    "xcbTrainScaled = scaler.transform(xcbTrain)\n",
    "\n",
    "km = KMeans(n_clusters=2)\n",
    "km = km.fit(xcbTrainScaled)\n",
    "\n",
    "pred_cb = km.predict(scaler.transform(Xcb))\n",
    "plt.hist(pred_cb, bins=2)\n",
    "#plt.savefig('kmeans_hist.png', dpi=300)\n",
    "plt.show()\n",
    "pred_cb"
   ]
  },
  {
   "cell_type": "code",
   "execution_count": 123,
   "metadata": {},
   "outputs": [],
   "source": [
    "Xcb['clusterCB'] = pred_cb\n",
    "weekFinCB = weekMod.join(Xcb[['clusterCB']]) "
   ]
  },
  {
   "cell_type": "code",
   "execution_count": 121,
   "metadata": {},
   "outputs": [
    {
     "data": {
      "text/plain": [
       "(29219, 11)"
      ]
     },
     "execution_count": 121,
     "metadata": {},
     "output_type": "execute_result"
    }
   ],
   "source": [
    "Xcb.shape\n",
    "Xcb.drop_duplicates().shape"
   ]
  },
  {
   "cell_type": "code",
   "execution_count": 117,
   "metadata": {},
   "outputs": [
    {
     "data": {
      "text/plain": [
       "(29219,)"
      ]
     },
     "execution_count": 117,
     "metadata": {},
     "output_type": "execute_result"
    }
   ],
   "source": [
    "pred_cb.shape"
   ]
  },
  {
   "cell_type": "code",
   "execution_count": null,
   "metadata": {},
   "outputs": [],
   "source": []
  },
  {
   "cell_type": "markdown",
   "metadata": {},
   "source": [
    "# Clustering - Safeties Man vs. Zone TODO\n",
    "\n",
    "We start out with a knn model, evaluate it, do the same with a kmeans model, and then again with dbscan"
   ]
  },
  {
   "cell_type": "code",
   "execution_count": 91,
   "metadata": {},
   "outputs": [
    {
     "data": {
      "text/plain": [
       "GaussianMixture(n_components=2, random_state=42)"
      ]
     },
     "execution_count": 91,
     "metadata": {},
     "output_type": "execute_result"
    }
   ],
   "source": [
    "Xs = weekMod.loc[(weekMod['position'].isin(['SS','FS','S']))][weekMod.columns[30:]].dropna()\n",
    " \n",
    "# Note: weekMod is for week 1 rn\n",
    "xsTrain = Xs.drop_duplicates()\n",
    "scaler = MinMaxScaler()\n",
    "scaler.fit(xsTrain)\n",
    "xsTrainScaled = scaler.transform(xsTrain)\n",
    "\n",
    "# Set and train the Gaussian mixture model\n",
    "gmm_s = GaussianMixture(n_components=2, covariance_type='full', random_state=42)\n",
    "gmm_s.fit(xsTrainScaled)"
   ]
  },
  {
   "cell_type": "code",
   "execution_count": 66,
   "metadata": {},
   "outputs": [
    {
     "data": {
      "text/html": [
       "<div>\n",
       "<style scoped>\n",
       "    .dataframe tbody tr th:only-of-type {\n",
       "        vertical-align: middle;\n",
       "    }\n",
       "\n",
       "    .dataframe tbody tr th {\n",
       "        vertical-align: top;\n",
       "    }\n",
       "\n",
       "    .dataframe thead th {\n",
       "        text-align: right;\n",
       "    }\n",
       "</style>\n",
       "<table border=\"1\" class=\"dataframe\">\n",
       "  <thead>\n",
       "    <tr style=\"text-align: right;\">\n",
       "      <th></th>\n",
       "      <th>varX</th>\n",
       "      <th>varY</th>\n",
       "      <th>varS</th>\n",
       "      <th>oppVar</th>\n",
       "      <th>oppMean</th>\n",
       "      <th>mateVar</th>\n",
       "      <th>mateMean</th>\n",
       "      <th>oppDirVar</th>\n",
       "      <th>oppDirMean</th>\n",
       "      <th>meanOppMateDistRatio</th>\n",
       "      <th>varOppMateDistRatio</th>\n",
       "    </tr>\n",
       "  </thead>\n",
       "  <tbody>\n",
       "    <tr>\n",
       "      <th>1</th>\n",
       "      <td>0.000036</td>\n",
       "      <td>0.000189</td>\n",
       "      <td>0.000000</td>\n",
       "      <td>0.000025</td>\n",
       "      <td>1.918109</td>\n",
       "      <td>0.000972</td>\n",
       "      <td>5.882770</td>\n",
       "      <td>2637.883442</td>\n",
       "      <td>193.817273</td>\n",
       "      <td>0.290676</td>\n",
       "      <td>0.000005</td>\n",
       "    </tr>\n",
       "    <tr>\n",
       "      <th>3</th>\n",
       "      <td>0.003216</td>\n",
       "      <td>0.000187</td>\n",
       "      <td>0.001645</td>\n",
       "      <td>0.002955</td>\n",
       "      <td>4.912147</td>\n",
       "      <td>0.005817</td>\n",
       "      <td>4.013412</td>\n",
       "      <td>463.282687</td>\n",
       "      <td>63.215455</td>\n",
       "      <td>0.562519</td>\n",
       "      <td>0.000056</td>\n",
       "    </tr>\n",
       "    <tr>\n",
       "      <th>5</th>\n",
       "      <td>0.000125</td>\n",
       "      <td>0.000025</td>\n",
       "      <td>0.000027</td>\n",
       "      <td>0.000160</td>\n",
       "      <td>18.221115</td>\n",
       "      <td>0.000097</td>\n",
       "      <td>12.190637</td>\n",
       "      <td>44.362445</td>\n",
       "      <td>14.143636</td>\n",
       "      <td>1.903102</td>\n",
       "      <td>0.286890</td>\n",
       "    </tr>\n",
       "    <tr>\n",
       "      <th>15</th>\n",
       "      <td>0.000036</td>\n",
       "      <td>0.000189</td>\n",
       "      <td>0.000000</td>\n",
       "      <td>0.000025</td>\n",
       "      <td>1.918109</td>\n",
       "      <td>0.000972</td>\n",
       "      <td>5.882770</td>\n",
       "      <td>2637.883442</td>\n",
       "      <td>193.817273</td>\n",
       "      <td>0.290676</td>\n",
       "      <td>0.000005</td>\n",
       "    </tr>\n",
       "    <tr>\n",
       "      <th>17</th>\n",
       "      <td>0.003216</td>\n",
       "      <td>0.000187</td>\n",
       "      <td>0.001645</td>\n",
       "      <td>0.002955</td>\n",
       "      <td>4.912147</td>\n",
       "      <td>0.005817</td>\n",
       "      <td>4.013412</td>\n",
       "      <td>463.282687</td>\n",
       "      <td>63.215455</td>\n",
       "      <td>0.562519</td>\n",
       "      <td>0.000056</td>\n",
       "    </tr>\n",
       "  </tbody>\n",
       "</table>\n",
       "</div>"
      ],
      "text/plain": [
       "        varX      varY      varS    oppVar    oppMean   mateVar   mateMean  \\\n",
       "1   0.000036  0.000189  0.000000  0.000025   1.918109  0.000972   5.882770   \n",
       "3   0.003216  0.000187  0.001645  0.002955   4.912147  0.005817   4.013412   \n",
       "5   0.000125  0.000025  0.000027  0.000160  18.221115  0.000097  12.190637   \n",
       "15  0.000036  0.000189  0.000000  0.000025   1.918109  0.000972   5.882770   \n",
       "17  0.003216  0.000187  0.001645  0.002955   4.912147  0.005817   4.013412   \n",
       "\n",
       "      oppDirVar  oppDirMean  meanOppMateDistRatio  varOppMateDistRatio  \n",
       "1   2637.883442  193.817273              0.290676             0.000005  \n",
       "3    463.282687   63.215455              0.562519             0.000056  \n",
       "5     44.362445   14.143636              1.903102             0.286890  \n",
       "15  2637.883442  193.817273              0.290676             0.000005  \n",
       "17   463.282687   63.215455              0.562519             0.000056  "
      ]
     },
     "execution_count": 66,
     "metadata": {},
     "output_type": "execute_result"
    }
   ],
   "source": [
    "abc = weekMod.loc[(weekMod['position'].isin(['SS','FS','S']))][weekMod.columns[30:]].dropna()\n",
    "#abc[abc['position']=='FS'].head()\n",
    "abc.head()"
   ]
  },
  {
   "cell_type": "code",
   "execution_count": 92,
   "metadata": {},
   "outputs": [
    {
     "data": {
      "text/plain": [
       "(3401875, 45)"
      ]
     },
     "execution_count": 92,
     "metadata": {},
     "output_type": "execute_result"
    }
   ],
   "source": [
    "# Make class prediction and probability estimation\n",
    "# #scaled training, so should also scale when predicting\n",
    "# pred_cb = gmm_cb.predict(scaler.transform(Xcb))\n",
    "# prob_cb = gmm_cb.predict_proba(scaler.transform(Xcb)) #predict all \n",
    "Accidentally pasted over this, will have to fix if we run it again\n",
    "# # Join the class prediction and probability estimation into our main dataframe\n",
    "# Xcb['clusterCB'] = pred_cb\n",
    "# Xcb['clusterCB_prob'] = prob_cb[:,0]\n",
    "# weekFinCB = weekMod.join(Xcb[['clusterCB', 'clusterCB_prob']]) \n",
    "#I think we'll have to append the other positions and their predictions to weekFinCB\n",
    "#weekFinCB.columns.values\n",
    "#weekFinCB.shape"
   ]
  },
  {
   "cell_type": "code",
   "execution_count": 202,
   "metadata": {},
   "outputs": [
    {
     "name": "stdout",
     "output_type": "stream",
     "text": [
      "shape of the resulting data: (657637, 43)\n"
     ]
    }
   ],
   "source": [
    "t = weekFinCB.loc[weekFinCB['position']=='CB']\n",
    "print(f'shape of the resulting data: {t.shape}')\n",
    "t.head()"
   ]
  },
  {
   "cell_type": "code",
   "execution_count": null,
   "metadata": {},
   "outputs": [],
   "source": [
    "weekFinS_CB.head()"
   ]
  },
  {
   "cell_type": "markdown",
   "metadata": {},
   "source": [
    "### Now trying kmeans"
   ]
  },
  {
   "cell_type": "code",
   "execution_count": 125,
   "metadata": {},
   "outputs": [
    {
     "data": {
      "image/png": "[encoded data removed]",
      "text/plain": [
       "<Figure size 432x288 with 1 Axes>"
      ]
     },
     "metadata": {
      "needs_background": "light"
     },
     "output_type": "display_data"
    },
    {
     "data": {
      "text/plain": [
       "array([0, 1, 1, ..., 1, 1, 1], dtype=int32)"
      ]
     },
     "execution_count": 125,
     "metadata": {},
     "output_type": "execute_result"
    }
   ],
   "source": [
    "Xs = weekMod.loc[(weekMod['position'].isin(['SS','FS','S']))][weekMod.columns[30:]].dropna()\n",
    " \n",
    "# Note: weekMod is for week 1 rn\n",
    "xsTrain = Xs.drop_duplicates()\n",
    "scaler = MinMaxScaler()\n",
    "scaler.fit(xsTrain)\n",
    "xsTrainScaled = scaler.transform(xsTrain)\n",
    "\n",
    "km = KMeans(n_clusters=2)\n",
    "km = km.fit(xsTrainScaled)\n",
    "\n",
    "\n",
    "pred_s = km.predict(scaler.transform(Xs))\n",
    "plt.hist(pred_s, bins=2)\n",
    "\n",
    "Xs['clusterS'] = pred_s\n",
    "weekFinS_CB = weekFinCB.join(Xs[['clusterS']]) \n",
    "#plt.savefig('kmeans_hist.png', dpi=300)\n",
    "plt.show()\n",
    "pred_s"
   ]
  },
  {
   "cell_type": "code",
   "execution_count": null,
   "metadata": {},
   "outputs": [],
   "source": [
    "# Xs['clusterCB'] = pred_s\n",
    "# weekFinCB = weekMod.join(Xs[['clusterCB']]) "
   ]
  },
  {
   "cell_type": "markdown",
   "metadata": {},
   "source": [
    "# Clustering - DB's Man vs. Zone \n",
    "\n",
    "We start out with a knn model, evaluate it, do the same with a kmeans model, and then again with dbscan"
   ]
  },
  {
   "cell_type": "code",
   "execution_count": 93,
   "metadata": {},
   "outputs": [
    {
     "data": {
      "text/plain": [
       "GaussianMixture(n_components=2, random_state=42)"
      ]
     },
     "execution_count": 93,
     "metadata": {},
     "output_type": "execute_result"
    }
   ],
   "source": [
    "Xdb = weekMod.loc[weekMod['position']=='DB'][weekMod.columns[30:]].dropna()\n",
    " \n",
    "# Note: weekMod is for week 1 rn\n",
    "xdbTrain = Xdb.drop_duplicates()\n",
    "scaler = MinMaxScaler()\n",
    "scaler.fit(xdbTrain)\n",
    "xdbTrainScaled = scaler.transform(xdbTrain)\n",
    "\n",
    "# Set and train the Gaussian mixture model\n",
    "gmm_db = GaussianMixture(n_components=2, covariance_type='full', random_state=42)\n",
    "gmm_db.fit(xdbTrainScaled)"
   ]
  },
  {
   "cell_type": "code",
   "execution_count": 94,
   "metadata": {},
   "outputs": [
    {
     "data": {
      "text/plain": [
       "(3401875, 47)"
      ]
     },
     "execution_count": 94,
     "metadata": {},
     "output_type": "execute_result"
    }
   ],
   "source": [
    "# Make class prediction and probability estimation\n",
    "#scaled training, so should also scale when predicting\n",
    "pred_db = gmm_db.predict(scaler.transform(Xdb))\n",
    "prob_db = gmm_db.predict_proba(scaler.transform(Xdb)) #predict all \n",
    "#pred_s = gmm_s.predict(Xs)\n",
    "#prob_s = gmm_s.predict_proba(Xs) #predict all\n",
    "\n",
    "# Join the class prediction and probability estimation into our main dataframe\n",
    "Xdb['clustersDB'] = pred_db\n",
    "Xdb['clustersDB_prob'] = prob_db[:,0]\n",
    "weekFinS_CB_DB = weekFinS_CB.join(Xdb[['clustersDB', 'clustersDB_prob']]) \n",
    "#I think we'll have to append the other positions and their predictions to weekFinCB\n",
    "#weekFinCB.columns.values\n",
    "weekFinS_CB_DB.shape"
   ]
  },
  {
   "cell_type": "code",
   "execution_count": 202,
   "metadata": {},
   "outputs": [
    {
     "name": "stdout",
     "output_type": "stream",
     "text": [
      "shape of the resulting data: (657637, 43)\n"
     ]
    }
   ],
   "source": [
    "t = weekFinCB.loc[weekFinCB['position']=='CB']\n",
    "print(f'shape of the resulting data: {t.shape}')\n",
    "t.head()"
   ]
  },
  {
   "cell_type": "markdown",
   "metadata": {},
   "source": [
    "## Now trying kmeans"
   ]
  },
  {
   "cell_type": "code",
   "execution_count": 126,
   "metadata": {},
   "outputs": [
    {
     "data": {
      "image/png": "[encoded data removed]",
      "text/plain": [
       "<Figure size 432x288 with 1 Axes>"
      ]
     },
     "metadata": {
      "needs_background": "light"
     },
     "output_type": "display_data"
    },
    {
     "data": {
      "text/plain": [
       "array([0, 0, 0, ..., 1, 1, 1], dtype=int32)"
      ]
     },
     "execution_count": 126,
     "metadata": {},
     "output_type": "execute_result"
    }
   ],
   "source": [
    "Xdb = weekMod.loc[weekMod['position']=='DB'][weekMod.columns[30:]].dropna()\n",
    " \n",
    "# Note: weekMod is for week 1 rn\n",
    "xdbTrain = Xdb.drop_duplicates()\n",
    "scaler = MinMaxScaler()\n",
    "scaler.fit(xdbTrain)\n",
    "xdbTrainScaled = scaler.transform(xdbTrain)\n",
    "\n",
    "km = KMeans(n_clusters=2)\n",
    "km = km.fit(xdbTrainScaled)\n",
    "\n",
    "pred_db = km.predict(scaler.transform(Xdb))\n",
    "plt.hist(pred_db, bins=2)\n",
    "\n",
    "Xdb['clustersDB'] = pred_db\n",
    "weekFinS_CB_DB = weekFinS_CB.join(Xdb[['clustersDB']]) \n",
    "#plt.savefig('kmeans_hist.png', dpi=300)\n",
    "plt.show()\n",
    "pred_db"
   ]
  },
  {
   "cell_type": "code",
   "execution_count": null,
   "metadata": {},
   "outputs": [],
   "source": []
  },
  {
   "cell_type": "code",
   "execution_count": null,
   "metadata": {},
   "outputs": [],
   "source": []
  },
  {
   "cell_type": "markdown",
   "metadata": {},
   "source": [
    "# Clustering - Linebackers Man vs. Zone TODO\n",
    "\n",
    "We start out with a knn model, evaluate it, do the same with a kmeans model, and then again with dbscan"
   ]
  },
  {
   "cell_type": "code",
   "execution_count": 95,
   "metadata": {},
   "outputs": [
    {
     "data": {
      "text/plain": [
       "GaussianMixture(n_components=2, random_state=42)"
      ]
     },
     "execution_count": 95,
     "metadata": {},
     "output_type": "execute_result"
    }
   ],
   "source": [
    "Xlb = weekMod.loc[(weekMod['position'].isin(['MLB','LB', 'OLB', 'ILB']))][weekMod.columns[30:]].dropna()\n",
    "\n",
    "# Note: weekMod is for week 1 rn\n",
    "xlbTrain = Xlb.drop_duplicates()\n",
    "scaler = MinMaxScaler()\n",
    "scaler.fit(xlbTrain)\n",
    "xlbTrainScaled = scaler.transform(xlbTrain)\n",
    "\n",
    "# Set and train the Gaussian mixture model\n",
    "gmm_lb = GaussianMixture(n_components=2, covariance_type='full', random_state=42)\n",
    "gmm_lb.fit(xdbTrainScaled)"
   ]
  },
  {
   "cell_type": "code",
   "execution_count": 96,
   "metadata": {},
   "outputs": [
    {
     "data": {
      "text/plain": [
       "(3401875, 49)"
      ]
     },
     "execution_count": 96,
     "metadata": {},
     "output_type": "execute_result"
    }
   ],
   "source": [
    "# Make class prediction and probability estimation\n",
    "#scaled training, so should also scale when predicting\n",
    "pred_lb = gmm_lb.predict(scaler.transform(Xlb))\n",
    "prob_lb = gmm_lb.predict_proba(scaler.transform(Xlb)) #predict all \n",
    "#pred_s = gmm_s.predict(Xs)\n",
    "#prob_s = gmm_s.predict_proba(Xs) #predict all\n",
    "\n",
    "# Join the class prediction and probability estimation into our main dataframe\n",
    "Xlb['clustersLB'] = pred_lb\n",
    "Xlb['clustersLB_prob'] = prob_lb[:,0]\n",
    "weekFinS_CB_DB_LB = weekFinS_CB_DB.join(Xlb[['clustersLB', 'clustersLB_prob']]) \n",
    "#I think we'll have to append the other positions and their predictions to weekFinCB\n",
    "#weekFinCB.columns.values\n",
    "weekFinS_CB_DB_LB.shape"
   ]
  },
  {
   "cell_type": "code",
   "execution_count": 202,
   "metadata": {},
   "outputs": [
    {
     "name": "stdout",
     "output_type": "stream",
     "text": [
      "shape of the resulting data: (657637, 43)\n"
     ]
    }
   ],
   "source": [
    "t = weekFinCB.loc[weekFinCB['position']=='CB']\n",
    "print(f'shape of the resulting data: {t.shape}')\n",
    "t.head()"
   ]
  },
  {
   "cell_type": "code",
   "execution_count": null,
   "metadata": {},
   "outputs": [],
   "source": []
  },
  {
   "cell_type": "code",
   "execution_count": null,
   "metadata": {},
   "outputs": [],
   "source": []
  },
  {
   "cell_type": "code",
   "execution_count": 147,
   "metadata": {
    "scrolled": false
   },
   "outputs": [
    {
     "data": {
      "text/html": [
       "<div>\n",
       "<style scoped>\n",
       "    .dataframe tbody tr th:only-of-type {\n",
       "        vertical-align: middle;\n",
       "    }\n",
       "\n",
       "    .dataframe tbody tr th {\n",
       "        vertical-align: top;\n",
       "    }\n",
       "\n",
       "    .dataframe thead th {\n",
       "        text-align: right;\n",
       "    }\n",
       "</style>\n",
       "<table border=\"1\" class=\"dataframe\">\n",
       "  <thead>\n",
       "    <tr style=\"text-align: right;\">\n",
       "      <th></th>\n",
       "      <th>time</th>\n",
       "      <th>x</th>\n",
       "      <th>y</th>\n",
       "      <th>s</th>\n",
       "      <th>a</th>\n",
       "      <th>dis</th>\n",
       "      <th>o</th>\n",
       "      <th>dir</th>\n",
       "      <th>event</th>\n",
       "      <th>nflId</th>\n",
       "      <th>displayName</th>\n",
       "      <th>jerseyNumber</th>\n",
       "      <th>position</th>\n",
       "      <th>frameId</th>\n",
       "      <th>team</th>\n",
       "      <th>gameId</th>\n",
       "      <th>playId</th>\n",
       "      <th>playDirection</th>\n",
       "      <th>route</th>\n",
       "      <th>oppMinDist</th>\n",
       "      <th>closestOpp(nflId)</th>\n",
       "      <th>oppDir</th>\n",
       "      <th>oppX</th>\n",
       "      <th>oppY</th>\n",
       "      <th>mateMinDist</th>\n",
       "      <th>closestMate(nflId)</th>\n",
       "      <th>mateX</th>\n",
       "      <th>mateY</th>\n",
       "      <th>diffDir</th>\n",
       "      <th>oppMateDistRatio</th>\n",
       "      <th>varX</th>\n",
       "      <th>varY</th>\n",
       "      <th>varS</th>\n",
       "      <th>oppVar</th>\n",
       "      <th>oppMean</th>\n",
       "      <th>mateVar</th>\n",
       "      <th>mateMean</th>\n",
       "      <th>oppDirVar</th>\n",
       "      <th>oppDirMean</th>\n",
       "      <th>meanOppMateDistRatio</th>\n",
       "      <th>varOppMateDistRatio</th>\n",
       "      <th>clusterCB</th>\n",
       "      <th>clusterS</th>\n",
       "      <th>clustersDB</th>\n",
       "      <th>clustersLB</th>\n",
       "    </tr>\n",
       "  </thead>\n",
       "  <tbody>\n",
       "    <tr>\n",
       "      <th>900180</th>\n",
       "      <td>2018-09-11T02:01:11.000Z</td>\n",
       "      <td>7.44</td>\n",
       "      <td>19.73</td>\n",
       "      <td>1.85</td>\n",
       "      <td>2.00</td>\n",
       "      <td>0.17</td>\n",
       "      <td>63.57</td>\n",
       "      <td>298.71</td>\n",
       "      <td>between_snap</td>\n",
       "      <td>2556617.0</td>\n",
       "      <td>Doug Middleton</td>\n",
       "      <td>36.0</td>\n",
       "      <td>S</td>\n",
       "      <td>19</td>\n",
       "      <td>away</td>\n",
       "      <td>2018091000</td>\n",
       "      <td>3415</td>\n",
       "      <td>left</td>\n",
       "      <td>NaN</td>\n",
       "      <td>12.329335</td>\n",
       "      <td>497326.0</td>\n",
       "      <td>279.89</td>\n",
       "      <td>19.01</td>\n",
       "      <td>15.47</td>\n",
       "      <td>7.121917</td>\n",
       "      <td>2543597.0</td>\n",
       "      <td>14.40</td>\n",
       "      <td>21.24</td>\n",
       "      <td>18.82</td>\n",
       "      <td>1.669407</td>\n",
       "      <td>2.814645</td>\n",
       "      <td>2.376119</td>\n",
       "      <td>0.843257</td>\n",
       "      <td>1.229245</td>\n",
       "      <td>12.739595</td>\n",
       "      <td>1.773447</td>\n",
       "      <td>8.276228</td>\n",
       "      <td>1541.40899</td>\n",
       "      <td>63.185517</td>\n",
       "      <td>1.48385</td>\n",
       "      <td>0.074637</td>\n",
       "      <td>NaN</td>\n",
       "      <td>1.0</td>\n",
       "      <td>NaN</td>\n",
       "      <td>NaN</td>\n",
       "    </tr>\n",
       "    <tr>\n",
       "      <th>900195</th>\n",
       "      <td>2018-09-11T02:01:11.099Z</td>\n",
       "      <td>7.27</td>\n",
       "      <td>19.83</td>\n",
       "      <td>2.10</td>\n",
       "      <td>1.99</td>\n",
       "      <td>0.20</td>\n",
       "      <td>61.16</td>\n",
       "      <td>303.74</td>\n",
       "      <td>between_snap</td>\n",
       "      <td>2556617.0</td>\n",
       "      <td>Doug Middleton</td>\n",
       "      <td>36.0</td>\n",
       "      <td>S</td>\n",
       "      <td>20</td>\n",
       "      <td>away</td>\n",
       "      <td>2018091000</td>\n",
       "      <td>3415</td>\n",
       "      <td>left</td>\n",
       "      <td>NaN</td>\n",
       "      <td>12.096289</td>\n",
       "      <td>497326.0</td>\n",
       "      <td>278.99</td>\n",
       "      <td>18.58</td>\n",
       "      <td>15.54</td>\n",
       "      <td>7.246551</td>\n",
       "      <td>2543597.0</td>\n",
       "      <td>14.37</td>\n",
       "      <td>21.28</td>\n",
       "      <td>24.75</td>\n",
       "      <td>1.699297</td>\n",
       "      <td>2.814645</td>\n",
       "      <td>2.376119</td>\n",
       "      <td>0.843257</td>\n",
       "      <td>1.229245</td>\n",
       "      <td>12.739595</td>\n",
       "      <td>1.773447</td>\n",
       "      <td>8.276228</td>\n",
       "      <td>1541.40899</td>\n",
       "      <td>63.185517</td>\n",
       "      <td>1.48385</td>\n",
       "      <td>0.074637</td>\n",
       "      <td>NaN</td>\n",
       "      <td>1.0</td>\n",
       "      <td>NaN</td>\n",
       "      <td>NaN</td>\n",
       "    </tr>\n",
       "    <tr>\n",
       "      <th>900210</th>\n",
       "      <td>2018-09-11T02:01:11.200Z</td>\n",
       "      <td>7.08</td>\n",
       "      <td>19.98</td>\n",
       "      <td>2.41</td>\n",
       "      <td>2.12</td>\n",
       "      <td>0.23</td>\n",
       "      <td>57.94</td>\n",
       "      <td>308.47</td>\n",
       "      <td>between_snap</td>\n",
       "      <td>2556617.0</td>\n",
       "      <td>Doug Middleton</td>\n",
       "      <td>36.0</td>\n",
       "      <td>S</td>\n",
       "      <td>21</td>\n",
       "      <td>away</td>\n",
       "      <td>2018091000</td>\n",
       "      <td>3415</td>\n",
       "      <td>left</td>\n",
       "      <td>NaN</td>\n",
       "      <td>11.890105</td>\n",
       "      <td>497326.0</td>\n",
       "      <td>276.85</td>\n",
       "      <td>18.13</td>\n",
       "      <td>15.59</td>\n",
       "      <td>7.376456</td>\n",
       "      <td>2543597.0</td>\n",
       "      <td>14.33</td>\n",
       "      <td>21.34</td>\n",
       "      <td>31.62</td>\n",
       "      <td>1.725152</td>\n",
       "      <td>2.814645</td>\n",
       "      <td>2.376119</td>\n",
       "      <td>0.843257</td>\n",
       "      <td>1.229245</td>\n",
       "      <td>12.739595</td>\n",
       "      <td>1.773447</td>\n",
       "      <td>8.276228</td>\n",
       "      <td>1541.40899</td>\n",
       "      <td>63.185517</td>\n",
       "      <td>1.48385</td>\n",
       "      <td>0.074637</td>\n",
       "      <td>NaN</td>\n",
       "      <td>1.0</td>\n",
       "      <td>NaN</td>\n",
       "      <td>NaN</td>\n",
       "    </tr>\n",
       "    <tr>\n",
       "      <th>900225</th>\n",
       "      <td>2018-09-11T02:01:11.299Z</td>\n",
       "      <td>6.89</td>\n",
       "      <td>20.14</td>\n",
       "      <td>2.63</td>\n",
       "      <td>1.92</td>\n",
       "      <td>0.25</td>\n",
       "      <td>56.61</td>\n",
       "      <td>311.33</td>\n",
       "      <td>between_snap</td>\n",
       "      <td>2556617.0</td>\n",
       "      <td>Doug Middleton</td>\n",
       "      <td>36.0</td>\n",
       "      <td>S</td>\n",
       "      <td>22</td>\n",
       "      <td>away</td>\n",
       "      <td>2018091000</td>\n",
       "      <td>3415</td>\n",
       "      <td>left</td>\n",
       "      <td>NaN</td>\n",
       "      <td>11.666949</td>\n",
       "      <td>497326.0</td>\n",
       "      <td>273.93</td>\n",
       "      <td>17.65</td>\n",
       "      <td>15.63</td>\n",
       "      <td>7.498333</td>\n",
       "      <td>2543597.0</td>\n",
       "      <td>14.28</td>\n",
       "      <td>21.41</td>\n",
       "      <td>37.40</td>\n",
       "      <td>1.743759</td>\n",
       "      <td>2.814645</td>\n",
       "      <td>2.376119</td>\n",
       "      <td>0.843257</td>\n",
       "      <td>1.229245</td>\n",
       "      <td>12.739595</td>\n",
       "      <td>1.773447</td>\n",
       "      <td>8.276228</td>\n",
       "      <td>1541.40899</td>\n",
       "      <td>63.185517</td>\n",
       "      <td>1.48385</td>\n",
       "      <td>0.074637</td>\n",
       "      <td>NaN</td>\n",
       "      <td>1.0</td>\n",
       "      <td>NaN</td>\n",
       "      <td>NaN</td>\n",
       "    </tr>\n",
       "    <tr>\n",
       "      <th>900240</th>\n",
       "      <td>2018-09-11T02:01:11.400Z</td>\n",
       "      <td>6.68</td>\n",
       "      <td>20.33</td>\n",
       "      <td>2.85</td>\n",
       "      <td>1.72</td>\n",
       "      <td>0.28</td>\n",
       "      <td>58.07</td>\n",
       "      <td>312.83</td>\n",
       "      <td>between_snap</td>\n",
       "      <td>2556617.0</td>\n",
       "      <td>Doug Middleton</td>\n",
       "      <td>36.0</td>\n",
       "      <td>S</td>\n",
       "      <td>23</td>\n",
       "      <td>away</td>\n",
       "      <td>2018091000</td>\n",
       "      <td>3415</td>\n",
       "      <td>left</td>\n",
       "      <td>NaN</td>\n",
       "      <td>11.494786</td>\n",
       "      <td>497326.0</td>\n",
       "      <td>268.18</td>\n",
       "      <td>17.17</td>\n",
       "      <td>15.63</td>\n",
       "      <td>7.628709</td>\n",
       "      <td>2543597.0</td>\n",
       "      <td>14.22</td>\n",
       "      <td>21.49</td>\n",
       "      <td>44.65</td>\n",
       "      <td>1.752081</td>\n",
       "      <td>2.814645</td>\n",
       "      <td>2.376119</td>\n",
       "      <td>0.843257</td>\n",
       "      <td>1.229245</td>\n",
       "      <td>12.739595</td>\n",
       "      <td>1.773447</td>\n",
       "      <td>8.276228</td>\n",
       "      <td>1541.40899</td>\n",
       "      <td>63.185517</td>\n",
       "      <td>1.48385</td>\n",
       "      <td>0.074637</td>\n",
       "      <td>NaN</td>\n",
       "      <td>1.0</td>\n",
       "      <td>NaN</td>\n",
       "      <td>NaN</td>\n",
       "    </tr>\n",
       "  </tbody>\n",
       "</table>\n",
       "</div>"
      ],
      "text/plain": [
       "                            time     x      y     s     a   dis      o  \\\n",
       "900180  2018-09-11T02:01:11.000Z  7.44  19.73  1.85  2.00  0.17  63.57   \n",
       "900195  2018-09-11T02:01:11.099Z  7.27  19.83  2.10  1.99  0.20  61.16   \n",
       "900210  2018-09-11T02:01:11.200Z  7.08  19.98  2.41  2.12  0.23  57.94   \n",
       "900225  2018-09-11T02:01:11.299Z  6.89  20.14  2.63  1.92  0.25  56.61   \n",
       "900240  2018-09-11T02:01:11.400Z  6.68  20.33  2.85  1.72  0.28  58.07   \n",
       "\n",
       "           dir         event      nflId     displayName  jerseyNumber  \\\n",
       "900180  298.71  between_snap  2556617.0  Doug Middleton          36.0   \n",
       "900195  303.74  between_snap  2556617.0  Doug Middleton          36.0   \n",
       "900210  308.47  between_snap  2556617.0  Doug Middleton          36.0   \n",
       "900225  311.33  between_snap  2556617.0  Doug Middleton          36.0   \n",
       "900240  312.83  between_snap  2556617.0  Doug Middleton          36.0   \n",
       "\n",
       "       position  frameId  team      gameId  playId playDirection route  \\\n",
       "900180        S       19  away  2018091000    3415          left   NaN   \n",
       "900195        S       20  away  2018091000    3415          left   NaN   \n",
       "900210        S       21  away  2018091000    3415          left   NaN   \n",
       "900225        S       22  away  2018091000    3415          left   NaN   \n",
       "900240        S       23  away  2018091000    3415          left   NaN   \n",
       "\n",
       "        oppMinDist  closestOpp(nflId)  oppDir   oppX   oppY  mateMinDist  \\\n",
       "900180   12.329335           497326.0  279.89  19.01  15.47     7.121917   \n",
       "900195   12.096289           497326.0  278.99  18.58  15.54     7.246551   \n",
       "900210   11.890105           497326.0  276.85  18.13  15.59     7.376456   \n",
       "900225   11.666949           497326.0  273.93  17.65  15.63     7.498333   \n",
       "900240   11.494786           497326.0  268.18  17.17  15.63     7.628709   \n",
       "\n",
       "        closestMate(nflId)  mateX  mateY  diffDir  oppMateDistRatio      varX  \\\n",
       "900180           2543597.0  14.40  21.24    18.82          1.669407  2.814645   \n",
       "900195           2543597.0  14.37  21.28    24.75          1.699297  2.814645   \n",
       "900210           2543597.0  14.33  21.34    31.62          1.725152  2.814645   \n",
       "900225           2543597.0  14.28  21.41    37.40          1.743759  2.814645   \n",
       "900240           2543597.0  14.22  21.49    44.65          1.752081  2.814645   \n",
       "\n",
       "            varY      varS    oppVar    oppMean   mateVar  mateMean  \\\n",
       "900180  2.376119  0.843257  1.229245  12.739595  1.773447  8.276228   \n",
       "900195  2.376119  0.843257  1.229245  12.739595  1.773447  8.276228   \n",
       "900210  2.376119  0.843257  1.229245  12.739595  1.773447  8.276228   \n",
       "900225  2.376119  0.843257  1.229245  12.739595  1.773447  8.276228   \n",
       "900240  2.376119  0.843257  1.229245  12.739595  1.773447  8.276228   \n",
       "\n",
       "         oppDirVar  oppDirMean  meanOppMateDistRatio  varOppMateDistRatio  \\\n",
       "900180  1541.40899   63.185517               1.48385             0.074637   \n",
       "900195  1541.40899   63.185517               1.48385             0.074637   \n",
       "900210  1541.40899   63.185517               1.48385             0.074637   \n",
       "900225  1541.40899   63.185517               1.48385             0.074637   \n",
       "900240  1541.40899   63.185517               1.48385             0.074637   \n",
       "\n",
       "        clusterCB  clusterS  clustersDB  clustersLB  \n",
       "900180        NaN       1.0         NaN         NaN  \n",
       "900195        NaN       1.0         NaN         NaN  \n",
       "900210        NaN       1.0         NaN         NaN  \n",
       "900225        NaN       1.0         NaN         NaN  \n",
       "900240        NaN       1.0         NaN         NaN  "
      ]
     },
     "execution_count": 147,
     "metadata": {},
     "output_type": "execute_result"
    }
   ],
   "source": [
    "a = weekFinS_CB_DB_LB[(weekFinS_CB_DB_LB['position']=='S')]#.head(50)\n",
    "a[3000:3400].head()\n",
    "\n",
    "#Making sure that 1's and 0's are consistent - To check I watched the animations of a lot of different plays\n",
    "# 1 -> zone, 0 -> man for db's \n",
    "# 1 -> man, 0 -> zone for cb's\n",
    "# 1 -> man, 0 -> zone for lb's ? yes\n",
    "# 1 -> zone, 0 -> man for safety's ? yes\n",
    "\n",
    "# so swap the coverage classification for db's and safety's"
   ]
  },
  {
   "cell_type": "markdown",
   "metadata": {},
   "source": [
    "## Now trying kmeans"
   ]
  },
  {
   "cell_type": "code",
   "execution_count": 129,
   "metadata": {},
   "outputs": [
    {
     "data": {
      "image/png": "[encoded data removed]",
      "text/plain": [
       "<Figure size 432x288 with 1 Axes>"
      ]
     },
     "metadata": {
      "needs_background": "light"
     },
     "output_type": "display_data"
    },
    {
     "data": {
      "text/plain": [
       "array([0, 0, 0, ..., 1, 1, 1], dtype=int32)"
      ]
     },
     "execution_count": 129,
     "metadata": {},
     "output_type": "execute_result"
    }
   ],
   "source": [
    "Xlb = weekMod.loc[(weekMod['position'].isin(['MLB','LB', 'OLB', 'ILB']))][weekMod.columns[30:]].dropna()\n",
    "\n",
    "# Note: weekMod is for week 1 rn\n",
    "xlbTrain = Xlb.drop_duplicates()\n",
    "scaler = MinMaxScaler()\n",
    "scaler.fit(xlbTrain)\n",
    "xlbTrainScaled = scaler.transform(xlbTrain)\n",
    "\n",
    "km = KMeans(n_clusters=2)\n",
    "km = km.fit(xlbTrainScaled)\n",
    "\n",
    "pred_lb = km.predict(scaler.transform(Xlb))\n",
    "plt.hist(pred_lb, bins=2)\n",
    "\n",
    "Xlb['clustersLB'] = pred_lb\n",
    "weekFinS_CB_DB_LB =  weekFinS_CB_DB.join(Xlb['clustersLB']) \n",
    "#plt.savefig('kmeans_hist.png', dpi=300)\n",
    "plt.show()\n",
    "pred_lb"
   ]
  },
  {
   "cell_type": "code",
   "execution_count": null,
   "metadata": {},
   "outputs": [],
   "source": []
  },
  {
   "cell_type": "code",
   "execution_count": 149,
   "metadata": {},
   "outputs": [
    {
     "name": "stdout",
     "output_type": "stream",
     "text": [
      "./data/raw/player_manZone_ftGen_km_weeks1_2_5\n"
     ]
    }
   ],
   "source": [
    "write_man_zone_to_csv = True\n",
    "# features = [varX, varY, varS, oppVar, oppMean, mateVar, mateMean, oppDirVar, oppDirMean, oppMateDistRatioMean, oppMateDistRatioVar]\n",
    "# for feature in features:\n",
    "#     weekMod = pd.merge(weekMod, feature, how='left', on=['gameId', 'event', 'playId', 'nflId'])\n",
    "    \n",
    "if write_man_zone_to_csv:\n",
    "    DATA_DIR = './data/raw'\n",
    "    filename = 'player_manZone_ftGen_km_weeks1_2_5'\n",
    "    #REDO classification but with kmeans and then save it here: \n",
    "    #filename = 'player_manZone_ftGen_km_weeks1_2_5'\n",
    "    filepath = DATA_DIR + '/' + filename\n",
    "    print(filepath)\n",
    "    #print(.to_csv())\n",
    "    weekFinS_CB_DB_LB.to_csv(filepath)\n"
   ]
  },
  {
   "cell_type": "code",
   "execution_count": 6,
   "metadata": {},
   "outputs": [],
   "source": [
    "# import numpy as np\n",
    "# import pandas as pd\n",
    "# DATA_DIR = './data/raw'\n",
    "# filename = DATA_DIR + '/player_manZone_ftGen_km_weeks1_2_5'\n",
    "# a = pd.read_csv(filename)"
   ]
  },
  {
   "cell_type": "code",
   "execution_count": 8,
   "metadata": {},
   "outputs": [],
   "source": [
    "# filename = DATA_DIR + '/player_manZone_ftGen_gm_weeks1_2_5'\n",
    "# b = pd.read_csv(filename)"
   ]
  },
  {
   "cell_type": "code",
   "execution_count": 9,
   "metadata": {},
   "outputs": [
    {
     "data": {
      "text/html": [
       "<div>\n",
       "<style scoped>\n",
       "    .dataframe tbody tr th:only-of-type {\n",
       "        vertical-align: middle;\n",
       "    }\n",
       "\n",
       "    .dataframe tbody tr th {\n",
       "        vertical-align: top;\n",
       "    }\n",
       "\n",
       "    .dataframe thead th {\n",
       "        text-align: right;\n",
       "    }\n",
       "</style>\n",
       "<table border=\"1\" class=\"dataframe\">\n",
       "  <thead>\n",
       "    <tr style=\"text-align: right;\">\n",
       "      <th></th>\n",
       "      <th>Unnamed: 0</th>\n",
       "      <th>time</th>\n",
       "      <th>x</th>\n",
       "      <th>y</th>\n",
       "      <th>s</th>\n",
       "      <th>a</th>\n",
       "      <th>dis</th>\n",
       "      <th>o</th>\n",
       "      <th>dir</th>\n",
       "      <th>event</th>\n",
       "      <th>...</th>\n",
       "      <th>meanOppMateDistRatio</th>\n",
       "      <th>varOppMateDistRatio</th>\n",
       "      <th>clusterCB</th>\n",
       "      <th>clusterCB_prob</th>\n",
       "      <th>clusterS</th>\n",
       "      <th>clusterS_prob</th>\n",
       "      <th>clustersDB</th>\n",
       "      <th>clustersDB_prob</th>\n",
       "      <th>clustersLB</th>\n",
       "      <th>clustersLB_prob</th>\n",
       "    </tr>\n",
       "  </thead>\n",
       "  <tbody>\n",
       "    <tr>\n",
       "      <th>0</th>\n",
       "      <td>0</td>\n",
       "      <td>2018-09-07T01:07:14.599Z</td>\n",
       "      <td>91.73</td>\n",
       "      <td>26.67</td>\n",
       "      <td>0.00</td>\n",
       "      <td>0.01</td>\n",
       "      <td>0.02</td>\n",
       "      <td>289.57</td>\n",
       "      <td>240.93</td>\n",
       "      <td>ball_snap</td>\n",
       "      <td>...</td>\n",
       "      <td>0.641170</td>\n",
       "      <td>4.278920e-07</td>\n",
       "      <td>NaN</td>\n",
       "      <td>NaN</td>\n",
       "      <td>NaN</td>\n",
       "      <td>NaN</td>\n",
       "      <td>NaN</td>\n",
       "      <td>NaN</td>\n",
       "      <td>NaN</td>\n",
       "      <td>NaN</td>\n",
       "    </tr>\n",
       "    <tr>\n",
       "      <th>1</th>\n",
       "      <td>1</td>\n",
       "      <td>2018-09-07T01:07:14.599Z</td>\n",
       "      <td>88.89</td>\n",
       "      <td>36.47</td>\n",
       "      <td>0.01</td>\n",
       "      <td>0.01</td>\n",
       "      <td>0.01</td>\n",
       "      <td>105.63</td>\n",
       "      <td>66.66</td>\n",
       "      <td>ball_snap</td>\n",
       "      <td>...</td>\n",
       "      <td>0.290676</td>\n",
       "      <td>5.083461e-06</td>\n",
       "      <td>NaN</td>\n",
       "      <td>NaN</td>\n",
       "      <td>1.0</td>\n",
       "      <td>1.807102e-08</td>\n",
       "      <td>NaN</td>\n",
       "      <td>NaN</td>\n",
       "      <td>NaN</td>\n",
       "      <td>NaN</td>\n",
       "    </tr>\n",
       "    <tr>\n",
       "      <th>2</th>\n",
       "      <td>2</td>\n",
       "      <td>2018-09-07T01:07:14.599Z</td>\n",
       "      <td>91.35</td>\n",
       "      <td>44.16</td>\n",
       "      <td>0.02</td>\n",
       "      <td>0.03</td>\n",
       "      <td>0.01</td>\n",
       "      <td>290.45</td>\n",
       "      <td>16.86</td>\n",
       "      <td>ball_snap</td>\n",
       "      <td>...</td>\n",
       "      <td>0.742585</td>\n",
       "      <td>1.202835e-05</td>\n",
       "      <td>NaN</td>\n",
       "      <td>NaN</td>\n",
       "      <td>NaN</td>\n",
       "      <td>NaN</td>\n",
       "      <td>NaN</td>\n",
       "      <td>NaN</td>\n",
       "      <td>NaN</td>\n",
       "      <td>NaN</td>\n",
       "    </tr>\n",
       "    <tr>\n",
       "      <th>3</th>\n",
       "      <td>3</td>\n",
       "      <td>2018-09-07T01:07:14.599Z</td>\n",
       "      <td>86.31</td>\n",
       "      <td>22.01</td>\n",
       "      <td>0.09</td>\n",
       "      <td>0.42</td>\n",
       "      <td>0.01</td>\n",
       "      <td>70.12</td>\n",
       "      <td>168.91</td>\n",
       "      <td>ball_snap</td>\n",
       "      <td>...</td>\n",
       "      <td>0.562519</td>\n",
       "      <td>5.588078e-05</td>\n",
       "      <td>NaN</td>\n",
       "      <td>NaN</td>\n",
       "      <td>1.0</td>\n",
       "      <td>1.216969e-07</td>\n",
       "      <td>NaN</td>\n",
       "      <td>NaN</td>\n",
       "      <td>NaN</td>\n",
       "      <td>NaN</td>\n",
       "    </tr>\n",
       "    <tr>\n",
       "      <th>4</th>\n",
       "      <td>4</td>\n",
       "      <td>2018-09-07T01:07:14.599Z</td>\n",
       "      <td>90.78</td>\n",
       "      <td>36.15</td>\n",
       "      <td>0.00</td>\n",
       "      <td>0.00</td>\n",
       "      <td>0.00</td>\n",
       "      <td>257.61</td>\n",
       "      <td>193.97</td>\n",
       "      <td>ball_snap</td>\n",
       "      <td>...</td>\n",
       "      <td>0.238053</td>\n",
       "      <td>7.417441e-07</td>\n",
       "      <td>NaN</td>\n",
       "      <td>NaN</td>\n",
       "      <td>NaN</td>\n",
       "      <td>NaN</td>\n",
       "      <td>NaN</td>\n",
       "      <td>NaN</td>\n",
       "      <td>NaN</td>\n",
       "      <td>NaN</td>\n",
       "    </tr>\n",
       "  </tbody>\n",
       "</table>\n",
       "<p>5 rows × 50 columns</p>\n",
       "</div>"
      ],
      "text/plain": [
       "   Unnamed: 0                      time      x      y     s     a   dis  \\\n",
       "0           0  2018-09-07T01:07:14.599Z  91.73  26.67  0.00  0.01  0.02   \n",
       "1           1  2018-09-07T01:07:14.599Z  88.89  36.47  0.01  0.01  0.01   \n",
       "2           2  2018-09-07T01:07:14.599Z  91.35  44.16  0.02  0.03  0.01   \n",
       "3           3  2018-09-07T01:07:14.599Z  86.31  22.01  0.09  0.42  0.01   \n",
       "4           4  2018-09-07T01:07:14.599Z  90.78  36.15  0.00  0.00  0.00   \n",
       "\n",
       "        o     dir      event  ...  meanOppMateDistRatio varOppMateDistRatio  \\\n",
       "0  289.57  240.93  ball_snap  ...              0.641170        4.278920e-07   \n",
       "1  105.63   66.66  ball_snap  ...              0.290676        5.083461e-06   \n",
       "2  290.45   16.86  ball_snap  ...              0.742585        1.202835e-05   \n",
       "3   70.12  168.91  ball_snap  ...              0.562519        5.588078e-05   \n",
       "4  257.61  193.97  ball_snap  ...              0.238053        7.417441e-07   \n",
       "\n",
       "   clusterCB clusterCB_prob  clusterS clusterS_prob  clustersDB  \\\n",
       "0        NaN            NaN       NaN           NaN         NaN   \n",
       "1        NaN            NaN       1.0  1.807102e-08         NaN   \n",
       "2        NaN            NaN       NaN           NaN         NaN   \n",
       "3        NaN            NaN       1.0  1.216969e-07         NaN   \n",
       "4        NaN            NaN       NaN           NaN         NaN   \n",
       "\n",
       "   clustersDB_prob clustersLB clustersLB_prob  \n",
       "0              NaN        NaN             NaN  \n",
       "1              NaN        NaN             NaN  \n",
       "2              NaN        NaN             NaN  \n",
       "3              NaN        NaN             NaN  \n",
       "4              NaN        NaN             NaN  \n",
       "\n",
       "[5 rows x 50 columns]"
      ]
     },
     "execution_count": 9,
     "metadata": {},
     "output_type": "execute_result"
    }
   ],
   "source": [
    "# b.head()"
   ]
  },
  {
   "cell_type": "code",
   "execution_count": 7,
   "metadata": {},
   "outputs": [
    {
     "data": {
      "text/html": [
       "<div>\n",
       "<style scoped>\n",
       "    .dataframe tbody tr th:only-of-type {\n",
       "        vertical-align: middle;\n",
       "    }\n",
       "\n",
       "    .dataframe tbody tr th {\n",
       "        vertical-align: top;\n",
       "    }\n",
       "\n",
       "    .dataframe thead th {\n",
       "        text-align: right;\n",
       "    }\n",
       "</style>\n",
       "<table border=\"1\" class=\"dataframe\">\n",
       "  <thead>\n",
       "    <tr style=\"text-align: right;\">\n",
       "      <th></th>\n",
       "      <th>Unnamed: 0</th>\n",
       "      <th>time</th>\n",
       "      <th>x</th>\n",
       "      <th>y</th>\n",
       "      <th>s</th>\n",
       "      <th>a</th>\n",
       "      <th>dis</th>\n",
       "      <th>o</th>\n",
       "      <th>dir</th>\n",
       "      <th>event</th>\n",
       "      <th>...</th>\n",
       "      <th>mateVar</th>\n",
       "      <th>mateMean</th>\n",
       "      <th>oppDirVar</th>\n",
       "      <th>oppDirMean</th>\n",
       "      <th>meanOppMateDistRatio</th>\n",
       "      <th>varOppMateDistRatio</th>\n",
       "      <th>clusterCB</th>\n",
       "      <th>clusterS</th>\n",
       "      <th>clustersDB</th>\n",
       "      <th>clustersLB</th>\n",
       "    </tr>\n",
       "  </thead>\n",
       "  <tbody>\n",
       "    <tr>\n",
       "      <th>0</th>\n",
       "      <td>0</td>\n",
       "      <td>2018-09-07T01:07:14.599Z</td>\n",
       "      <td>91.73</td>\n",
       "      <td>26.67</td>\n",
       "      <td>0.00</td>\n",
       "      <td>0.01</td>\n",
       "      <td>0.02</td>\n",
       "      <td>289.57</td>\n",
       "      <td>240.93</td>\n",
       "      <td>ball_snap</td>\n",
       "      <td>...</td>\n",
       "      <td>0.000046</td>\n",
       "      <td>3.393964</td>\n",
       "      <td>50.527362</td>\n",
       "      <td>199.977273</td>\n",
       "      <td>0.641170</td>\n",
       "      <td>4.278920e-07</td>\n",
       "      <td>NaN</td>\n",
       "      <td>NaN</td>\n",
       "      <td>NaN</td>\n",
       "      <td>NaN</td>\n",
       "    </tr>\n",
       "    <tr>\n",
       "      <th>1</th>\n",
       "      <td>1</td>\n",
       "      <td>2018-09-07T01:07:14.599Z</td>\n",
       "      <td>88.89</td>\n",
       "      <td>36.47</td>\n",
       "      <td>0.01</td>\n",
       "      <td>0.01</td>\n",
       "      <td>0.01</td>\n",
       "      <td>105.63</td>\n",
       "      <td>66.66</td>\n",
       "      <td>ball_snap</td>\n",
       "      <td>...</td>\n",
       "      <td>0.000972</td>\n",
       "      <td>5.882770</td>\n",
       "      <td>2637.883442</td>\n",
       "      <td>193.817273</td>\n",
       "      <td>0.290676</td>\n",
       "      <td>5.083461e-06</td>\n",
       "      <td>NaN</td>\n",
       "      <td>1.0</td>\n",
       "      <td>NaN</td>\n",
       "      <td>NaN</td>\n",
       "    </tr>\n",
       "    <tr>\n",
       "      <th>2</th>\n",
       "      <td>2</td>\n",
       "      <td>2018-09-07T01:07:14.599Z</td>\n",
       "      <td>91.35</td>\n",
       "      <td>44.16</td>\n",
       "      <td>0.02</td>\n",
       "      <td>0.03</td>\n",
       "      <td>0.01</td>\n",
       "      <td>290.45</td>\n",
       "      <td>16.86</td>\n",
       "      <td>ball_snap</td>\n",
       "      <td>...</td>\n",
       "      <td>0.000221</td>\n",
       "      <td>8.025493</td>\n",
       "      <td>1942.248702</td>\n",
       "      <td>110.977273</td>\n",
       "      <td>0.742585</td>\n",
       "      <td>1.202835e-05</td>\n",
       "      <td>NaN</td>\n",
       "      <td>NaN</td>\n",
       "      <td>NaN</td>\n",
       "      <td>NaN</td>\n",
       "    </tr>\n",
       "    <tr>\n",
       "      <th>3</th>\n",
       "      <td>3</td>\n",
       "      <td>2018-09-07T01:07:14.599Z</td>\n",
       "      <td>86.31</td>\n",
       "      <td>22.01</td>\n",
       "      <td>0.09</td>\n",
       "      <td>0.42</td>\n",
       "      <td>0.01</td>\n",
       "      <td>70.12</td>\n",
       "      <td>168.91</td>\n",
       "      <td>ball_snap</td>\n",
       "      <td>...</td>\n",
       "      <td>0.005817</td>\n",
       "      <td>4.013412</td>\n",
       "      <td>463.282687</td>\n",
       "      <td>63.215455</td>\n",
       "      <td>0.562519</td>\n",
       "      <td>5.588078e-05</td>\n",
       "      <td>NaN</td>\n",
       "      <td>0.0</td>\n",
       "      <td>NaN</td>\n",
       "      <td>NaN</td>\n",
       "    </tr>\n",
       "    <tr>\n",
       "      <th>4</th>\n",
       "      <td>4</td>\n",
       "      <td>2018-09-07T01:07:14.599Z</td>\n",
       "      <td>90.78</td>\n",
       "      <td>36.15</td>\n",
       "      <td>0.00</td>\n",
       "      <td>0.00</td>\n",
       "      <td>0.00</td>\n",
       "      <td>257.61</td>\n",
       "      <td>193.97</td>\n",
       "      <td>ball_snap</td>\n",
       "      <td>...</td>\n",
       "      <td>0.000221</td>\n",
       "      <td>8.025493</td>\n",
       "      <td>2637.883442</td>\n",
       "      <td>193.817273</td>\n",
       "      <td>0.238053</td>\n",
       "      <td>7.417441e-07</td>\n",
       "      <td>NaN</td>\n",
       "      <td>NaN</td>\n",
       "      <td>NaN</td>\n",
       "      <td>NaN</td>\n",
       "    </tr>\n",
       "  </tbody>\n",
       "</table>\n",
       "<p>5 rows × 46 columns</p>\n",
       "</div>"
      ],
      "text/plain": [
       "   Unnamed: 0                      time      x      y     s     a   dis  \\\n",
       "0           0  2018-09-07T01:07:14.599Z  91.73  26.67  0.00  0.01  0.02   \n",
       "1           1  2018-09-07T01:07:14.599Z  88.89  36.47  0.01  0.01  0.01   \n",
       "2           2  2018-09-07T01:07:14.599Z  91.35  44.16  0.02  0.03  0.01   \n",
       "3           3  2018-09-07T01:07:14.599Z  86.31  22.01  0.09  0.42  0.01   \n",
       "4           4  2018-09-07T01:07:14.599Z  90.78  36.15  0.00  0.00  0.00   \n",
       "\n",
       "        o     dir      event  ...   mateVar  mateMean    oppDirVar  \\\n",
       "0  289.57  240.93  ball_snap  ...  0.000046  3.393964    50.527362   \n",
       "1  105.63   66.66  ball_snap  ...  0.000972  5.882770  2637.883442   \n",
       "2  290.45   16.86  ball_snap  ...  0.000221  8.025493  1942.248702   \n",
       "3   70.12  168.91  ball_snap  ...  0.005817  4.013412   463.282687   \n",
       "4  257.61  193.97  ball_snap  ...  0.000221  8.025493  2637.883442   \n",
       "\n",
       "   oppDirMean  meanOppMateDistRatio varOppMateDistRatio  clusterCB  clusterS  \\\n",
       "0  199.977273              0.641170        4.278920e-07        NaN       NaN   \n",
       "1  193.817273              0.290676        5.083461e-06        NaN       1.0   \n",
       "2  110.977273              0.742585        1.202835e-05        NaN       NaN   \n",
       "3   63.215455              0.562519        5.588078e-05        NaN       0.0   \n",
       "4  193.817273              0.238053        7.417441e-07        NaN       NaN   \n",
       "\n",
       "  clustersDB clustersLB  \n",
       "0        NaN        NaN  \n",
       "1        NaN        NaN  \n",
       "2        NaN        NaN  \n",
       "3        NaN        NaN  \n",
       "4        NaN        NaN  \n",
       "\n",
       "[5 rows x 46 columns]"
      ]
     },
     "execution_count": 7,
     "metadata": {},
     "output_type": "execute_result"
    }
   ],
   "source": [
    "# a.head()"
   ]
  },
  {
   "cell_type": "markdown",
   "metadata": {},
   "source": [
    "## Now, the predictions from the gaussian mixture model are saved in:\n",
    "./data/raw/player_manZone_ftGen_gm_weeks1_2_5 \n",
    "## and we don't have to run this code every time for them"
   ]
  },
  {
   "cell_type": "markdown",
   "metadata": {},
   "source": [
    "#plot a man-man play"
   ]
  },
  {
   "cell_type": "code",
   "execution_count": 204,
   "metadata": {},
   "outputs": [],
   "source": [
    "import src\n",
    "from src.NFL_Data import NflData\n",
    "DATA_DIR = './data/raw'\n",
    "PLAY_DIR = DATA_DIR + '/plays.csv'\n",
    "WEEK_DIR = DATA_DIR + '/games.csv'\n",
    "\n",
    "playData = pd.read_csv(PLAY_DIR)\n",
    "weekData = pd.read_csv(DATA_DIR + '/week1.csv')"
   ]
  },
  {
   "cell_type": "code",
   "execution_count": 206,
   "metadata": {},
   "outputs": [],
   "source": [
    "import os\n",
    "import seaborn as sns\n",
    "\n",
    "import matplotlib.pyplot as plt\n",
    "import matplotlib.patches as patches\n",
    "\n",
    "from src.plot_player_positions import PlayerPositionPlots\n",
    "\n",
    "from ipywidgets import interact, fixed\n",
    "\n",
    "import matplotlib.pyplot as plt\n",
    "import matplotlib.patches as patches\n",
    "from matplotlib import animation\n",
    "from matplotlib.animation import FFMpegWriter\n",
    "\n",
    "from IPython.display import Video"
   ]
  },
  {
   "cell_type": "code",
   "execution_count": 207,
   "metadata": {},
   "outputs": [
    {
     "name": "stderr",
     "output_type": "stream",
     "text": [
      "/Users/bergtho/Desktop/stat451/working_proj/src/plot_player_positions.py:284: SettingWithCopyWarning:\n",
      "\n",
      "\n",
      "A value is trying to be set on a copy of a slice from a DataFrame.\n",
      "Try using .loc[row_indexer,col_indexer] = value instead\n",
      "\n",
      "See the caveats in the documentation: https://pandas.pydata.org/pandas-docs/stable/user_guide/indexing.html#returning-a-view-versus-a-copy\n",
      "\n",
      "/Users/bergtho/Desktop/stat451/working_proj/src/plot_player_positions.py:285: SettingWithCopyWarning:\n",
      "\n",
      "\n",
      "A value is trying to be set on a copy of a slice from a DataFrame.\n",
      "Try using .loc[row_indexer,col_indexer] = value instead\n",
      "\n",
      "See the caveats in the documentation: https://pandas.pydata.org/pandas-docs/stable/user_guide/indexing.html#returning-a-view-versus-a-copy\n",
      "\n",
      "/Users/bergtho/Desktop/stat451/working_proj/src/plot_player_positions.py:286: SettingWithCopyWarning:\n",
      "\n",
      "\n",
      "A value is trying to be set on a copy of a slice from a DataFrame.\n",
      "Try using .loc[row_indexer,col_indexer] = value instead\n",
      "\n",
      "See the caveats in the documentation: https://pandas.pydata.org/pandas-docs/stable/user_guide/indexing.html#returning-a-view-versus-a-copy\n",
      "\n"
     ]
    },
    {
     "data": {
      "text/html": [
       "<video controls  >\n",
       " <source src=\"data:video/mp4;base64,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\" type=\"video/mp4\">\n",
       " Your browser does not support the video tag.\n",
       " </video>"
      ],
      "text/plain": [
       "<IPython.core.display.Video object>"
      ]
     },
     "execution_count": 207,
     "metadata": {},
     "output_type": "execute_result"
    },
    {
     "data": {
      "image/png": "[encoded data removed]",
      "text/plain": [
       "<Figure size 864x455.76 with 1 Axes>"
      ]
     },
     "metadata": {
      "needs_background": "light"
     },
     "output_type": "display_data"
    },
    {
     "data": {
      "image/png": "[encoded data removed]",
      "text/plain": [
       "<Figure size 864x454 with 1 Axes>"
      ]
     },
     "metadata": {
      "needs_background": "light"
     },
     "output_type": "display_data"
    }
   ],
   "source": [
    "pplt = PlayerPositionPlots()\n",
    "pplt.create_football_field()\n",
    "\n",
    "anim = pplt.get_play_animation(weekData, playData)\n",
    "writer = FFMpegWriter(fps=10)\n",
    "anim_fp = os.getcwd() + '/animations/' + str(1) + '_' + str(3812) + '.mp4'\n",
    "\n",
    "anim.save(anim_fp, writer)\n",
    "\n",
    "Video(anim_fp, embed=True)"
   ]
  },
  {
   "cell_type": "code",
   "execution_count": 201,
   "metadata": {},
   "outputs": [
    {
     "data": {
      "text/plain": [
       "(3401875, 43)"
      ]
     },
     "execution_count": 201,
     "metadata": {},
     "output_type": "execute_result"
    }
   ],
   "source": [
    "weekFinCB.shape"
   ]
  },
  {
   "cell_type": "code",
   "execution_count": null,
   "metadata": {},
   "outputs": [],
   "source": [
    "# km = KMeans(n_clusters=2, # 2 clusters -> 1 for man and one for pass\n",
    "#            init='random',\n",
    "#            n_init=10,\n",
    "#            max_iter=10000,\n",
    "#            random_state=0)\n",
    "# y_km = km.fit_predict(xTrainScaled)\n",
    "# Note: weekMod is for week 1 rn\n",
    "\n",
    "X = weekMod.loc[weekMod['position']=='CB'][weekMod.columns[30:]].dropna()\n",
    "xTrain = Xcb.drop_duplicates()\n",
    "scaler = MinMaxScaler()\n",
    "scaler.fit(xTrain)\n",
    "xTrainScaled = scaler.transform(xTrain)\n",
    "\n",
    "# Set and train the Gaussian mixture model\n",
    "#gmm_cb = GaussianMixture(n_components=2, covariance_type='full', random_state=42)\n",
    "#gmm_cb.fit(xcbTrainScaled)\n",
    "Sum_of_squared_distances = []\n",
    "K=range(1,10)\n",
    "for k in K:\n",
    "    km = KMeans(n_clusters=k)\n",
    "    km = km.fit(xTrainScaled)\n",
    "    Sum_of_squared_distances.append(km.inertia_)\n",
    "\n",
    "\n",
    "plt.plot(K, Sum_of_squared_distances, 'bx-')\n",
    "plt.xlabel('k')\n",
    "plt.ylabel('Sum_of_squared_distances')\n",
    "plt.title('Elbow Method For Optimal k')\n",
    "plt.savefig('elbow_method_kmeans.png')\n",
    "plt.show()"
   ]
  },
  {
   "cell_type": "code",
   "execution_count": null,
   "metadata": {},
   "outputs": [],
   "source": [
    "km = KMeans(n_clusters=2)\n",
    "km = km.fit(xTrainScaled)\n",
    "\n",
    "y_km = km.fit_predict(xTrainScaled)\n",
    "plt.hist(y_km, bins=2)\n",
    "plt.savefig('kmeans_hist.png', dpi=300)\n",
    "plt.show()\n",
    "y_km"
   ]
  },
  {
   "cell_type": "code",
   "execution_count": 1,
   "metadata": {},
   "outputs": [],
   "source": [
    "#xTrainScaled is the one to use\n",
    "\n",
    "# from: https://www.kaggle.com/minc33/visualizing-high-dimensional-clusters\n",
    "from sklearn.decomposition import PCA\n",
    "import plotly as py\n",
    "import plotly.graph_objs as go\n",
    "from plotly.offline import download_plotlyjs, init_notebook_mode, \\\n",
    "plot, iplot\n",
    "\n",
    "#PCA with one principal component\n",
    "pca_1d = PCA(n_components=1)\n",
    "PCs_1d = pd.DataFrame(pca_1d.fit_transform(pd.DataFrame(xTrainScaled).drop([\"Cluster\"], \\\n",
    "                                                      axis=1)))\n",
    "\n",
    "#PCA with two principal components\n",
    "pca_2d = PCA(n_components=2)\n",
    "PCs_2d = pd.DataFrame(pca_2d.fit_transform(xTrainScaled.drop([\"Cluster\"], \\\n",
    "                                                      axis=1)))\n",
    "\n",
    "#PCA with three principal components\n",
    "pca_3d = PCA(n_components=3)\n",
    "PCs_3d = pd.DataFrame(pca_3d.fit_transform(xTrainScaled.drop([\"Cluster\"], \\\n",
    "                                                      axis=1)))\n"
   ]
  },
  {
   "cell_type": "code",
   "execution_count": 177,
   "metadata": {},
   "outputs": [],
   "source": [
    "DATA_DIR = './data/raw'\n",
    "\n",
    "PLAY_DIR = DATA_DIR + '/plays.csv'\n",
    "\n",
    "plays = pd.read_csv(PLAY_DIR)"
   ]
  },
  {
   "cell_type": "code",
   "execution_count": 179,
   "metadata": {},
   "outputs": [
    {
     "data": {
      "text/html": [
       "<div>\n",
       "<style scoped>\n",
       "    .dataframe tbody tr th:only-of-type {\n",
       "        vertical-align: middle;\n",
       "    }\n",
       "\n",
       "    .dataframe tbody tr th {\n",
       "        vertical-align: top;\n",
       "    }\n",
       "\n",
       "    .dataframe thead th {\n",
       "        text-align: right;\n",
       "    }\n",
       "</style>\n",
       "<table border=\"1\" class=\"dataframe\">\n",
       "  <thead>\n",
       "    <tr style=\"text-align: right;\">\n",
       "      <th></th>\n",
       "      <th>gameId</th>\n",
       "      <th>playId</th>\n",
       "      <th>playDescription</th>\n",
       "      <th>quarter</th>\n",
       "      <th>down</th>\n",
       "      <th>yardsToGo</th>\n",
       "      <th>possessionTeam</th>\n",
       "      <th>playType</th>\n",
       "      <th>yardlineSide</th>\n",
       "      <th>yardlineNumber</th>\n",
       "      <th>offenseFormation</th>\n",
       "      <th>personnelO</th>\n",
       "      <th>defendersInTheBox</th>\n",
       "      <th>numberOfPassRushers</th>\n",
       "      <th>personnelD</th>\n",
       "      <th>typeDropback</th>\n",
       "      <th>preSnapVisitorScore</th>\n",
       "      <th>preSnapHomeScore</th>\n",
       "      <th>gameClock</th>\n",
       "      <th>absoluteYardlineNumber</th>\n",
       "      <th>penaltyCodes</th>\n",
       "      <th>penaltyJerseyNumbers</th>\n",
       "      <th>passResult</th>\n",
       "      <th>offensePlayResult</th>\n",
       "      <th>playResult</th>\n",
       "      <th>epa</th>\n",
       "      <th>isDefensivePI</th>\n",
       "    </tr>\n",
       "  </thead>\n",
       "  <tbody>\n",
       "    <tr>\n",
       "      <th>0</th>\n",
       "      <td>2018090600</td>\n",
       "      <td>75</td>\n",
       "      <td>(15:00) M.Ryan pass short right to J.Jones pus...</td>\n",
       "      <td>1</td>\n",
       "      <td>1</td>\n",
       "      <td>15</td>\n",
       "      <td>ATL</td>\n",
       "      <td>play_type_pass</td>\n",
       "      <td>ATL</td>\n",
       "      <td>20</td>\n",
       "      <td>I_FORM</td>\n",
       "      <td>2 RB, 1 TE, 2 WR</td>\n",
       "      <td>7.0</td>\n",
       "      <td>4.0</td>\n",
       "      <td>4 DL, 2 LB, 5 DB</td>\n",
       "      <td>TRADITIONAL</td>\n",
       "      <td>0.0</td>\n",
       "      <td>0.0</td>\n",
       "      <td>15:00:00</td>\n",
       "      <td>90.0</td>\n",
       "      <td>NaN</td>\n",
       "      <td>NaN</td>\n",
       "      <td>C</td>\n",
       "      <td>10</td>\n",
       "      <td>10</td>\n",
       "      <td>0.261827</td>\n",
       "      <td>False</td>\n",
       "    </tr>\n",
       "    <tr>\n",
       "      <th>1</th>\n",
       "      <td>2018090600</td>\n",
       "      <td>146</td>\n",
       "      <td>(13:10) M.Ryan pass incomplete short right to ...</td>\n",
       "      <td>1</td>\n",
       "      <td>1</td>\n",
       "      <td>10</td>\n",
       "      <td>ATL</td>\n",
       "      <td>play_type_pass</td>\n",
       "      <td>PHI</td>\n",
       "      <td>39</td>\n",
       "      <td>SINGLEBACK</td>\n",
       "      <td>1 RB, 1 TE, 3 WR</td>\n",
       "      <td>7.0</td>\n",
       "      <td>4.0</td>\n",
       "      <td>4 DL, 2 LB, 5 DB</td>\n",
       "      <td>TRADITIONAL</td>\n",
       "      <td>0.0</td>\n",
       "      <td>0.0</td>\n",
       "      <td>13:10:00</td>\n",
       "      <td>49.0</td>\n",
       "      <td>NaN</td>\n",
       "      <td>NaN</td>\n",
       "      <td>I</td>\n",
       "      <td>0</td>\n",
       "      <td>0</td>\n",
       "      <td>-0.372360</td>\n",
       "      <td>False</td>\n",
       "    </tr>\n",
       "    <tr>\n",
       "      <th>2</th>\n",
       "      <td>2018090600</td>\n",
       "      <td>168</td>\n",
       "      <td>(13:05) (Shotgun) M.Ryan pass incomplete short...</td>\n",
       "      <td>1</td>\n",
       "      <td>2</td>\n",
       "      <td>10</td>\n",
       "      <td>ATL</td>\n",
       "      <td>play_type_pass</td>\n",
       "      <td>PHI</td>\n",
       "      <td>39</td>\n",
       "      <td>SHOTGUN</td>\n",
       "      <td>2 RB, 1 TE, 2 WR</td>\n",
       "      <td>6.0</td>\n",
       "      <td>4.0</td>\n",
       "      <td>4 DL, 2 LB, 5 DB</td>\n",
       "      <td>TRADITIONAL</td>\n",
       "      <td>0.0</td>\n",
       "      <td>0.0</td>\n",
       "      <td>13:05:00</td>\n",
       "      <td>49.0</td>\n",
       "      <td>NaN</td>\n",
       "      <td>NaN</td>\n",
       "      <td>I</td>\n",
       "      <td>0</td>\n",
       "      <td>0</td>\n",
       "      <td>-0.702779</td>\n",
       "      <td>False</td>\n",
       "    </tr>\n",
       "    <tr>\n",
       "      <th>3</th>\n",
       "      <td>2018090600</td>\n",
       "      <td>190</td>\n",
       "      <td>(13:01) (Shotgun) M.Ryan pass deep left to J.J...</td>\n",
       "      <td>1</td>\n",
       "      <td>3</td>\n",
       "      <td>10</td>\n",
       "      <td>ATL</td>\n",
       "      <td>play_type_pass</td>\n",
       "      <td>PHI</td>\n",
       "      <td>39</td>\n",
       "      <td>SHOTGUN</td>\n",
       "      <td>1 RB, 1 TE, 3 WR</td>\n",
       "      <td>6.0</td>\n",
       "      <td>5.0</td>\n",
       "      <td>4 DL, 1 LB, 6 DB</td>\n",
       "      <td>SCRAMBLE_ROLLOUT_LEFT</td>\n",
       "      <td>0.0</td>\n",
       "      <td>0.0</td>\n",
       "      <td>13:01:00</td>\n",
       "      <td>49.0</td>\n",
       "      <td>NaN</td>\n",
       "      <td>NaN</td>\n",
       "      <td>C</td>\n",
       "      <td>33</td>\n",
       "      <td>33</td>\n",
       "      <td>3.047530</td>\n",
       "      <td>False</td>\n",
       "    </tr>\n",
       "    <tr>\n",
       "      <th>4</th>\n",
       "      <td>2018090600</td>\n",
       "      <td>256</td>\n",
       "      <td>(10:59) (Shotgun) M.Ryan pass incomplete short...</td>\n",
       "      <td>1</td>\n",
       "      <td>3</td>\n",
       "      <td>1</td>\n",
       "      <td>ATL</td>\n",
       "      <td>play_type_pass</td>\n",
       "      <td>PHI</td>\n",
       "      <td>1</td>\n",
       "      <td>SHOTGUN</td>\n",
       "      <td>2 RB, 3 TE, 0 WR</td>\n",
       "      <td>8.0</td>\n",
       "      <td>6.0</td>\n",
       "      <td>6 DL, 3 LB, 2 DB</td>\n",
       "      <td>TRADITIONAL</td>\n",
       "      <td>0.0</td>\n",
       "      <td>0.0</td>\n",
       "      <td>10:59:00</td>\n",
       "      <td>11.0</td>\n",
       "      <td>NaN</td>\n",
       "      <td>NaN</td>\n",
       "      <td>I</td>\n",
       "      <td>0</td>\n",
       "      <td>0</td>\n",
       "      <td>-0.842272</td>\n",
       "      <td>False</td>\n",
       "    </tr>\n",
       "  </tbody>\n",
       "</table>\n",
       "</div>"
      ],
      "text/plain": [
       "       gameId  playId                                    playDescription  \\\n",
       "0  2018090600      75  (15:00) M.Ryan pass short right to J.Jones pus...   \n",
       "1  2018090600     146  (13:10) M.Ryan pass incomplete short right to ...   \n",
       "2  2018090600     168  (13:05) (Shotgun) M.Ryan pass incomplete short...   \n",
       "3  2018090600     190  (13:01) (Shotgun) M.Ryan pass deep left to J.J...   \n",
       "4  2018090600     256  (10:59) (Shotgun) M.Ryan pass incomplete short...   \n",
       "\n",
       "   quarter  down  yardsToGo possessionTeam        playType yardlineSide  \\\n",
       "0        1     1         15            ATL  play_type_pass          ATL   \n",
       "1        1     1         10            ATL  play_type_pass          PHI   \n",
       "2        1     2         10            ATL  play_type_pass          PHI   \n",
       "3        1     3         10            ATL  play_type_pass          PHI   \n",
       "4        1     3          1            ATL  play_type_pass          PHI   \n",
       "\n",
       "   yardlineNumber offenseFormation        personnelO  defendersInTheBox  \\\n",
       "0              20           I_FORM  2 RB, 1 TE, 2 WR                7.0   \n",
       "1              39       SINGLEBACK  1 RB, 1 TE, 3 WR                7.0   \n",
       "2              39          SHOTGUN  2 RB, 1 TE, 2 WR                6.0   \n",
       "3              39          SHOTGUN  1 RB, 1 TE, 3 WR                6.0   \n",
       "4               1          SHOTGUN  2 RB, 3 TE, 0 WR                8.0   \n",
       "\n",
       "   numberOfPassRushers        personnelD           typeDropback  \\\n",
       "0                  4.0  4 DL, 2 LB, 5 DB            TRADITIONAL   \n",
       "1                  4.0  4 DL, 2 LB, 5 DB            TRADITIONAL   \n",
       "2                  4.0  4 DL, 2 LB, 5 DB            TRADITIONAL   \n",
       "3                  5.0  4 DL, 1 LB, 6 DB  SCRAMBLE_ROLLOUT_LEFT   \n",
       "4                  6.0  6 DL, 3 LB, 2 DB            TRADITIONAL   \n",
       "\n",
       "   preSnapVisitorScore  preSnapHomeScore gameClock  absoluteYardlineNumber  \\\n",
       "0                  0.0               0.0  15:00:00                    90.0   \n",
       "1                  0.0               0.0  13:10:00                    49.0   \n",
       "2                  0.0               0.0  13:05:00                    49.0   \n",
       "3                  0.0               0.0  13:01:00                    49.0   \n",
       "4                  0.0               0.0  10:59:00                    11.0   \n",
       "\n",
       "  penaltyCodes penaltyJerseyNumbers passResult  offensePlayResult  playResult  \\\n",
       "0          NaN                  NaN          C                 10          10   \n",
       "1          NaN                  NaN          I                  0           0   \n",
       "2          NaN                  NaN          I                  0           0   \n",
       "3          NaN                  NaN          C                 33          33   \n",
       "4          NaN                  NaN          I                  0           0   \n",
       "\n",
       "        epa  isDefensivePI  \n",
       "0  0.261827          False  \n",
       "1 -0.372360          False  \n",
       "2 -0.702779          False  \n",
       "3  3.047530          False  \n",
       "4 -0.842272          False  "
      ]
     },
     "execution_count": 179,
     "metadata": {},
     "output_type": "execute_result"
    }
   ],
   "source": [
    "plays.head()\n",
    "# NOTE: we'll only have cb data for weeks 1,2, and 5 "
   ]
  },
  {
   "cell_type": "code",
   "execution_count": 181,
   "metadata": {},
   "outputs": [
    {
     "data": {
      "text/plain": [
       "array(['time', 'x', 'y', 's', 'a', 'dis', 'o', 'dir', 'event', 'nflId',\n",
       "       'displayName', 'jerseyNumber', 'position', 'frameId', 'team',\n",
       "       'gameId', 'playId', 'playDirection', 'route', 'oppMinDist',\n",
       "       'closestOpp(nflId)', 'oppDir', 'oppX', 'oppY', 'mateMinDist',\n",
       "       'closestMate(nflId)', 'mateX', 'mateY', 'diffDir',\n",
       "       'oppMateDistRatio', 'varX', 'varY', 'varS', 'oppVar', 'oppMean',\n",
       "       'mateVar', 'mateMean', 'oppDirVar', 'oppDirMean',\n",
       "       'meanOppMateDistRatio', 'varOppMateDistRatio', 'clusterCB',\n",
       "       'clusterCB_prob'], dtype=object)"
      ]
     },
     "execution_count": 181,
     "metadata": {},
     "output_type": "execute_result"
    }
   ],
   "source": []
  },
  {
   "cell_type": "code",
   "execution_count": 134,
   "metadata": {},
   "outputs": [
    {
     "data": {
      "text/plain": [
       "0"
      ]
     },
     "execution_count": 134,
     "metadata": {},
     "output_type": "execute_result"
    }
   ],
   "source": [
    "exp = weekFinCB.dropna()\n",
    "a = exp.groupby(['gameId', 'playId', 'nflId']).head()\n",
    "#a['clusterCB'].shape\n",
    "len(a)"
   ]
  },
  {
   "cell_type": "code",
   "execution_count": null,
   "metadata": {},
   "outputs": [],
   "source": [
    "a = pd.dataframe(cols=['x','y','id'])\n",
    "for i in range(10):\n",
    "    a.append([i,(2*i),i])\n",
    "    \n",
    "# so the expected value should be 1\n",
    " \n",
    "\n",
    "\n",
    "\n"
   ]
  },
  {
   "cell_type": "markdown",
   "metadata": {},
   "source": [
    " # Clustering - Safety Man vs. Zone"
   ]
  },
  {
   "cell_type": "code",
   "execution_count": 108,
   "metadata": {},
   "outputs": [
    {
     "data": {
      "text/plain": [
       "GaussianMixture(n_components=2, random_state=42)"
      ]
     },
     "execution_count": 108,
     "metadata": {},
     "output_type": "execute_result"
    }
   ],
   "source": [
    "Xs = weekMod.loc[(weekMod['position'].isin(['SS','FS','S']))][weekMod.columns[30:]].dropna()\n",
    "# TODO: classify these - also should we put db's in this one or classify them on their own?\n",
    " \n",
    "# Note: weekMod is for week 1 rn\n",
    "xsTrain = Xs.drop_duplicates()\n",
    "scaler = MinMaxScaler()\n",
    "scaler.fit(xsTrain)\n",
    "xsTrainScaled = scaler.transform(xsTrain)\n",
    "\n",
    "# Set and train the Gaussian mixture model\n",
    "gmm_s = GaussianMixture(n_components=2, covariance_type='full', random_state=42)\n",
    "gmm_s.fit(xsTrainScaled)"
   ]
  },
  {
   "cell_type": "code",
   "execution_count": 109,
   "metadata": {},
   "outputs": [
    {
     "data": {
      "text/plain": [
       "(986022, 45)"
      ]
     },
     "execution_count": 109,
     "metadata": {},
     "output_type": "execute_result"
    }
   ],
   "source": [
    "# Make class prediction and probability estimation\n",
    "#scaled training, so should also scale when predicting\n",
    "pred_s = gmm_s.predict(scaler.transform(Xs))\n",
    "prob_s = gmm_s.predict_proba(scaler.transform(Xs)) #predict all \n",
    "#pred_s = gmm_s.predict(Xs)\n",
    "#prob_s = gmm_s.predict_proba(Xs) #predict all\n",
    "\n",
    "# Join the class prediction and probability estimation into our main dataframe\n",
    "Xs['clusterS'] = pred_s\n",
    "Xs['clusterS_prob'] = prob_s[:,0]\n",
    "weekFinS_CB = weekFinCB.join(Xs[['clusterS', 'clusterS_prob']]) \n",
    "#I think we'll have to append the other positions and their predictions to weekFinCB\n",
    "#weekFinCB.columns.values\n",
    "weekFinS_CB.shape"
   ]
  },
  {
   "cell_type": "code",
   "execution_count": 105,
   "metadata": {},
   "outputs": [
    {
     "data": {
      "text/plain": [
       "array([nan,  1.,  0.])"
      ]
     },
     "execution_count": 105,
     "metadata": {},
     "output_type": "execute_result"
    }
   ],
   "source": [
    "#weekFinS.columns.values\n",
    "#weekFinS.isnull().sum()\n",
    "#weekFinCB.isnull().sum()\n",
    "#weekFinCB.join(Xs[['clusterS', 'clusterS_prob']])\n",
    "#weekFinS['clusterS'].unique()"
   ]
  },
  {
   "cell_type": "markdown",
   "metadata": {},
   "source": [
    "# Clustering - db man vs. zone"
   ]
  },
  {
   "cell_type": "code",
   "execution_count": 110,
   "metadata": {},
   "outputs": [
    {
     "data": {
      "text/plain": [
       "GaussianMixture(n_components=2, random_state=42)"
      ]
     },
     "execution_count": 110,
     "metadata": {},
     "output_type": "execute_result"
    }
   ],
   "source": [
    "Xdb = weekMod.loc[weekMod['position']=='DB'][weekMod.columns[30:]].dropna()\n",
    "\n",
    "# TODO: classify these - also should we put db's in this one or classify them on their own?\n",
    " \n",
    "# Note: weekMod is for week 1 rn\n",
    "xdbTrain = Xdb.drop_duplicates()\n",
    "scaler = MinMaxScaler()\n",
    "scaler.fit(xdbTrain)\n",
    "xdbTrainScaled = scaler.transform(xdbTrain)\n",
    "\n",
    "# Set and train the Gaussian mixture model\n",
    "gmm_db = GaussianMixture(n_components=2, covariance_type='full', random_state=42)\n",
    "gmm_db.fit(xdbTrainScaled)"
   ]
  },
  {
   "cell_type": "code",
   "execution_count": 111,
   "metadata": {},
   "outputs": [
    {
     "data": {
      "text/plain": [
       "(986022, 47)"
      ]
     },
     "execution_count": 111,
     "metadata": {},
     "output_type": "execute_result"
    }
   ],
   "source": [
    "# Make class prediction and probability estimation\n",
    "#scaled training, so should also scale when predicting\n",
    "pred_db = gmm_db.predict(scaler.transform(Xdb))\n",
    "prob_db = gmm_db.predict_proba(scaler.transform(Xdb)) #predict all \n",
    "#pred_s = gmm_s.predict(Xs)\n",
    "#prob_s = gmm_s.predict_proba(Xs) #predict all\n",
    "\n",
    "# Join the class prediction and probability estimation into our main dataframe\n",
    "Xdb['clustersDB'] = pred_db\n",
    "Xdb['clustersDB_prob'] = prob_db[:,0]\n",
    "weekFinS_CB_DB = weekFinS_CB.join(Xdb[['clustersDB', 'clustersDB_prob']]) \n",
    "#I think we'll have to append the other positions and their predictions to weekFinCB\n",
    "#weekFinCB.columns.values\n",
    "weekFinS_CB_DB.shape"
   ]
  },
  {
   "cell_type": "markdown",
   "metadata": {},
   "source": [
    "# Clustering - linebacker man vs. zone"
   ]
  },
  {
   "cell_type": "code",
   "execution_count": 114,
   "metadata": {},
   "outputs": [
    {
     "data": {
      "text/plain": [
       "GaussianMixture(n_components=2, random_state=42)"
      ]
     },
     "execution_count": 114,
     "metadata": {},
     "output_type": "execute_result"
    }
   ],
   "source": [
    "Xlb = weekMod.loc[(weekMod['position'].isin(['MLB','LB', 'OLB', 'ILB']))][weekMod.columns[30:]].dropna()\n",
    "\n",
    "# Note: weekMod is for week 1 rn\n",
    "xlbTrain = Xlb.drop_duplicates()\n",
    "scaler = MinMaxScaler()\n",
    "scaler.fit(xlbTrain)\n",
    "xlbTrainScaled = scaler.transform(xlbTrain)\n",
    "\n",
    "# Set and train the Gaussian mixture model\n",
    "gmm_lb = GaussianMixture(n_components=2, covariance_type='full', random_state=42)\n",
    "gmm_lb.fit(xdbTrainScaled)"
   ]
  },
  {
   "cell_type": "code",
   "execution_count": 115,
   "metadata": {},
   "outputs": [
    {
     "data": {
      "text/plain": [
       "(986022, 49)"
      ]
     },
     "execution_count": 115,
     "metadata": {},
     "output_type": "execute_result"
    }
   ],
   "source": [
    "# Make class prediction and probability estimation\n",
    "#scaled training, so should also scale when predicting\n",
    "pred_lb = gmm_lb.predict(scaler.transform(Xlb))\n",
    "prob_lb = gmm_lb.predict_proba(scaler.transform(Xlb)) #predict all \n",
    "#pred_s = gmm_s.predict(Xs)\n",
    "#prob_s = gmm_s.predict_proba(Xs) #predict all\n",
    "\n",
    "# Join the class prediction and probability estimation into our main dataframe\n",
    "Xlb['clustersLB'] = pred_lb\n",
    "Xlb['clustersLB_prob'] = prob_lb[:,0]\n",
    "weekFinS_CB_DB_LB = weekFinS_CB_DB.join(Xlb[['clustersLB', 'clustersLB_prob']]) \n",
    "#I think we'll have to append the other positions and their predictions to weekFinCB\n",
    "#weekFinCB.columns.values\n",
    "weekFinS_CB_DB_LB.shape"
   ]
  },
  {
   "cell_type": "markdown",
   "metadata": {},
   "source": [
    "# Done running the model on the data. "
   ]
  },
  {
   "cell_type": "markdown",
   "metadata": {},
   "source": [
    "Now we have all of the data fitted to a model, however it's time-series data, and since we're short on time for this presentation, I'll just get the average zone/man probability for each player in each play, and store it in a new dataframe called gmm_player_play_coverages with columns (num_cb_zone, num_cb_m2m, num_s_zone, num_s_m2m, num_db_zone, num_db_m2m). \n",
    "\n",
    "that with columns:\n",
    "\n",
    "playId\n",
    "cb2\n",
    "\n",
    "\n",
    "oppMean = weekMod.groupby(['gameId', 'playId', 'event', 'nflId'])['oppMinDist'].agg(['mean']).reset_index().rename(columns={\"mean\": \"oppMean\"})\n"
   ]
  },
  {
   "cell_type": "markdown",
   "metadata": {},
   "source": [
    "To summarize: we're making a new df for the results of the gaussian model, with unique identifier [gameId', 'playId', 'event', 'nflId'])"
   ]
  },
  {
   "cell_type": "code",
   "execution_count": null,
   "metadata": {},
   "outputs": [],
   "source": [
    "#read in the plays dataframe (can be normal or from)"
   ]
  },
  {
   "cell_type": "code",
   "execution_count": null,
   "metadata": {},
   "outputs": [],
   "source": [
    "# Goal: \n",
    "# df with all cornerbacks, aggregate and take the mean "
   ]
  },
  {
   "cell_type": "markdown",
   "metadata": {},
   "source": [
    "Now that we have our data scaled and it is usable, we'll plot it before running a classifier on it"
   ]
  },
  {
   "cell_type": "code",
   "execution_count": 143,
   "metadata": {
    "scrolled": true
   },
   "outputs": [],
   "source": [
    "# df.columns\n",
    "# names = xTrain.columns.values\n",
    "# scatterplotmatrix(xTrain)\n",
    "# plt.tight_layout()\n",
    "# plt.show()"
   ]
  },
  {
   "cell_type": "code",
   "execution_count": 161,
   "metadata": {},
   "outputs": [],
   "source": [
    "from sklearn.metrics import silhouette_samples\n",
    "from matplotlib import cm"
   ]
  },
  {
   "cell_type": "code",
   "execution_count": 162,
   "metadata": {},
   "outputs": [],
   "source": [
    "def silhouette_plot(X, y_km):\n",
    "    # TODO: follow the code from the kmeans_ex, from prof's book\n",
    "    cluster_labels = np.unique(y_km)\n",
    "    n_clusters = cluster_labels.shape[0]\n",
    "    silhouette_vals = silhouette_samples(X, y_km, metric='euclidean')\n",
    "    y_ax_lower, y_ax_upper = 0, 0\n",
    "    yticks = []\n",
    "    for i, c in enumerate(cluster_labels):\n",
    "        c_silhouette_vals = silhouette_vals[y_km == c]\n",
    "        c_silhouette_vals.sort()\n",
    "        y_ax_upper += len(c_silhouette_vals)\n",
    "        color = cm.jet(float(i) / n_clusters)\n",
    "        plt.barh(range(y_ax_lower, y_ax_upper), c_silhouette_vals, height=1.0, \n",
    "                 edgecolor='none', color=color)\n",
    "\n",
    "        yticks.append((y_ax_lower + y_ax_upper) / 2.)\n",
    "        y_ax_lower += len(c_silhouette_vals)\n",
    "\n",
    "    silhouette_avg = np.mean(silhouette_vals)\n",
    "    plt.axvline(silhouette_avg, color=\"red\", linestyle=\"--\") \n",
    "\n",
    "    plt.yticks(yticks, cluster_labels + 1)\n",
    "    plt.ylabel('Cluster')\n",
    "    plt.xlabel('Silhouette coefficient')\n",
    "\n",
    "    plt.tight_layout()\n",
    "    #plt.savefig('images/11_04.png', dpi=300)\n",
    "    plt.show()"
   ]
  },
  {
   "cell_type": "code",
   "execution_count": 166,
   "metadata": {},
   "outputs": [],
   "source": [
    "def histogram_plot_of_classification(X, y_m, num_bins):\n",
    "    plt.hist(y_m, bins=num_bins)\n",
    "    #return \"not implemented\""
   ]
  },
  {
   "cell_type": "markdown",
   "metadata": {},
   "source": [
    "# kmeans"
   ]
  },
  {
   "cell_type": "code",
   "execution_count": 163,
   "metadata": {},
   "outputs": [],
   "source": [
    "from sklearn.cluster import KMeans"
   ]
  },
  {
   "cell_type": "code",
   "execution_count": 164,
   "metadata": {},
   "outputs": [],
   "source": [
    "km = KMeans(n_clusters=2, # 2 clusters -> 1 for man and one for pass\n",
    "           init='random',\n",
    "           n_init=10,\n",
    "           max_iter=10000,\n",
    "           random_state=0)\n",
    "y_km = km.fit_predict(xTrainScaled)\n",
    "plt.hist(y_km, bins=2)"
   ]
  },
  {
   "cell_type": "code",
   "execution_count": 165,
   "metadata": {},
   "outputs": [
    {
     "data": {
      "image/png": "[encoded data removed]",
      "text/plain": [
       "<Figure size 432x288 with 1 Axes>"
      ]
     },
     "metadata": {
      "needs_background": "light"
     },
     "output_type": "display_data"
    }
   ],
   "source": [
    "silhouette_plot(xTrainScaled, y_km)"
   ]
  },
  {
   "cell_type": "code",
   "execution_count": 167,
   "metadata": {},
   "outputs": [
    {
     "data": {
      "text/plain": [
       "(array([5972., 2584.]), array([0. , 0.5, 1. ]), <a list of 2 Patch objects>)"
      ]
     },
     "execution_count": 167,
     "metadata": {},
     "output_type": "execute_result"
    },
    {
     "data": {
      "image/png": "[encoded data removed]",
      "text/plain": [
       "<Figure size 432x288 with 1 Axes>"
      ]
     },
     "metadata": {
      "needs_background": "light"
     },
     "output_type": "display_data"
    }
   ],
   "source": [
    "plt.hist(y_km, bins=2)"
   ]
  },
  {
   "cell_type": "code",
   "execution_count": 170,
   "metadata": {},
   "outputs": [
    {
     "data": {
      "text/plain": [
       "array([0, 1, 0, ..., 1, 0, 1], dtype=int32)"
      ]
     },
     "execution_count": 170,
     "metadata": {},
     "output_type": "execute_result"
    }
   ],
   "source": [
    "y_km"
   ]
  },
  {
   "cell_type": "markdown",
   "metadata": {},
   "source": [
    "# can use the csv below to evaluate if it classifies the coverage right or not \n",
    "stat451/working_proj/data/raw/coverages_week1.csv\n",
    "(I got this data from: https://www.kaggle.com/tombliss/additional-data-coverage-schemes-for-week-1 and thought it would be a good idea to only run classification on week 1 so we can check if the results are kind of right or not)\n"
   ]
  },
  {
   "cell_type": "markdown",
   "metadata": {},
   "source": [
    "positions to make a classifier for: 'SS', 'FS', 'MLB', 'CB', 'LB', 'OLB', 'ILB', 'DB', 'DL','NT', 'S', 'DE'"
   ]
  },
  {
   "cell_type": "markdown",
   "metadata": {},
   "source": [
    "## Safety Coverage Classification"
   ]
  },
  {
   "cell_type": "code",
   "execution_count": 3,
   "metadata": {},
   "outputs": [],
   "source": [
    "# Xs = weekMod.loc[(weekMod['position'].isin(['SS','FS','S']))][weekMod.columns[30:]].dropna()\n"
   ]
  },
  {
   "cell_type": "code",
   "execution_count": 176,
   "metadata": {},
   "outputs": [
    {
     "data": {
      "text/html": [
       "<div>\n",
       "<style scoped>\n",
       "    .dataframe tbody tr th:only-of-type {\n",
       "        vertical-align: middle;\n",
       "    }\n",
       "\n",
       "    .dataframe tbody tr th {\n",
       "        vertical-align: top;\n",
       "    }\n",
       "\n",
       "    .dataframe thead th {\n",
       "        text-align: right;\n",
       "    }\n",
       "</style>\n",
       "<table border=\"1\" class=\"dataframe\">\n",
       "  <thead>\n",
       "    <tr style=\"text-align: right;\">\n",
       "      <th></th>\n",
       "      <th>varX</th>\n",
       "      <th>varY</th>\n",
       "      <th>varS</th>\n",
       "      <th>oppVar</th>\n",
       "      <th>oppMean</th>\n",
       "      <th>mateVar</th>\n",
       "      <th>mateMean</th>\n",
       "      <th>oppDirVar</th>\n",
       "      <th>oppDirMean</th>\n",
       "      <th>meanOppMateDistRatio</th>\n",
       "      <th>varOppMateDistRatio</th>\n",
       "    </tr>\n",
       "  </thead>\n",
       "  <tbody>\n",
       "    <tr>\n",
       "      <th>1</th>\n",
       "      <td>0.000036</td>\n",
       "      <td>0.000189</td>\n",
       "      <td>0.000000</td>\n",
       "      <td>0.000025</td>\n",
       "      <td>1.918109</td>\n",
       "      <td>0.000972</td>\n",
       "      <td>5.882770</td>\n",
       "      <td>2637.883442</td>\n",
       "      <td>193.817273</td>\n",
       "      <td>0.290676</td>\n",
       "      <td>0.000005</td>\n",
       "    </tr>\n",
       "    <tr>\n",
       "      <th>15</th>\n",
       "      <td>0.000036</td>\n",
       "      <td>0.000189</td>\n",
       "      <td>0.000000</td>\n",
       "      <td>0.000025</td>\n",
       "      <td>1.918109</td>\n",
       "      <td>0.000972</td>\n",
       "      <td>5.882770</td>\n",
       "      <td>2637.883442</td>\n",
       "      <td>193.817273</td>\n",
       "      <td>0.290676</td>\n",
       "      <td>0.000005</td>\n",
       "    </tr>\n",
       "    <tr>\n",
       "      <th>29</th>\n",
       "      <td>0.000036</td>\n",
       "      <td>0.000189</td>\n",
       "      <td>0.000000</td>\n",
       "      <td>0.000025</td>\n",
       "      <td>1.918109</td>\n",
       "      <td>0.000972</td>\n",
       "      <td>5.882770</td>\n",
       "      <td>2637.883442</td>\n",
       "      <td>193.817273</td>\n",
       "      <td>0.290676</td>\n",
       "      <td>0.000005</td>\n",
       "    </tr>\n",
       "    <tr>\n",
       "      <th>43</th>\n",
       "      <td>0.000036</td>\n",
       "      <td>0.000189</td>\n",
       "      <td>0.000000</td>\n",
       "      <td>0.000025</td>\n",
       "      <td>1.918109</td>\n",
       "      <td>0.000972</td>\n",
       "      <td>5.882770</td>\n",
       "      <td>2637.883442</td>\n",
       "      <td>193.817273</td>\n",
       "      <td>0.290676</td>\n",
       "      <td>0.000005</td>\n",
       "    </tr>\n",
       "    <tr>\n",
       "      <th>57</th>\n",
       "      <td>0.000036</td>\n",
       "      <td>0.000189</td>\n",
       "      <td>0.000000</td>\n",
       "      <td>0.000025</td>\n",
       "      <td>1.918109</td>\n",
       "      <td>0.000972</td>\n",
       "      <td>5.882770</td>\n",
       "      <td>2637.883442</td>\n",
       "      <td>193.817273</td>\n",
       "      <td>0.290676</td>\n",
       "      <td>0.000005</td>\n",
       "    </tr>\n",
       "    <tr>\n",
       "      <th>...</th>\n",
       "      <td>...</td>\n",
       "      <td>...</td>\n",
       "      <td>...</td>\n",
       "      <td>...</td>\n",
       "      <td>...</td>\n",
       "      <td>...</td>\n",
       "      <td>...</td>\n",
       "      <td>...</td>\n",
       "      <td>...</td>\n",
       "      <td>...</td>\n",
       "      <td>...</td>\n",
       "    </tr>\n",
       "    <tr>\n",
       "      <th>985990</th>\n",
       "      <td>4.825613</td>\n",
       "      <td>3.195425</td>\n",
       "      <td>2.946383</td>\n",
       "      <td>7.387544</td>\n",
       "      <td>4.646112</td>\n",
       "      <td>5.305397</td>\n",
       "      <td>4.275220</td>\n",
       "      <td>9753.260261</td>\n",
       "      <td>117.056000</td>\n",
       "      <td>4.285052</td>\n",
       "      <td>7.803512</td>\n",
       "    </tr>\n",
       "    <tr>\n",
       "      <th>986002</th>\n",
       "      <td>0.277126</td>\n",
       "      <td>34.902151</td>\n",
       "      <td>1.649024</td>\n",
       "      <td>2.218413</td>\n",
       "      <td>2.991775</td>\n",
       "      <td>11.420737</td>\n",
       "      <td>5.478244</td>\n",
       "      <td>23325.734304</td>\n",
       "      <td>159.538750</td>\n",
       "      <td>0.517298</td>\n",
       "      <td>0.068297</td>\n",
       "    </tr>\n",
       "    <tr>\n",
       "      <th>986005</th>\n",
       "      <td>4.825613</td>\n",
       "      <td>3.195425</td>\n",
       "      <td>2.946383</td>\n",
       "      <td>7.387544</td>\n",
       "      <td>4.646112</td>\n",
       "      <td>5.305397</td>\n",
       "      <td>4.275220</td>\n",
       "      <td>9753.260261</td>\n",
       "      <td>117.056000</td>\n",
       "      <td>4.285052</td>\n",
       "      <td>7.803512</td>\n",
       "    </tr>\n",
       "    <tr>\n",
       "      <th>986017</th>\n",
       "      <td>0.277126</td>\n",
       "      <td>34.902151</td>\n",
       "      <td>1.649024</td>\n",
       "      <td>2.218413</td>\n",
       "      <td>2.991775</td>\n",
       "      <td>11.420737</td>\n",
       "      <td>5.478244</td>\n",
       "      <td>23325.734304</td>\n",
       "      <td>159.538750</td>\n",
       "      <td>0.517298</td>\n",
       "      <td>0.068297</td>\n",
       "    </tr>\n",
       "    <tr>\n",
       "      <th>986020</th>\n",
       "      <td>4.825613</td>\n",
       "      <td>3.195425</td>\n",
       "      <td>2.946383</td>\n",
       "      <td>7.387544</td>\n",
       "      <td>4.646112</td>\n",
       "      <td>5.305397</td>\n",
       "      <td>4.275220</td>\n",
       "      <td>9753.260261</td>\n",
       "      <td>117.056000</td>\n",
       "      <td>4.285052</td>\n",
       "      <td>7.803512</td>\n",
       "    </tr>\n",
       "  </tbody>\n",
       "</table>\n",
       "<p>63728 rows × 11 columns</p>\n",
       "</div>"
      ],
      "text/plain": [
       "            varX       varY      varS    oppVar   oppMean    mateVar  \\\n",
       "1       0.000036   0.000189  0.000000  0.000025  1.918109   0.000972   \n",
       "15      0.000036   0.000189  0.000000  0.000025  1.918109   0.000972   \n",
       "29      0.000036   0.000189  0.000000  0.000025  1.918109   0.000972   \n",
       "43      0.000036   0.000189  0.000000  0.000025  1.918109   0.000972   \n",
       "57      0.000036   0.000189  0.000000  0.000025  1.918109   0.000972   \n",
       "...          ...        ...       ...       ...       ...        ...   \n",
       "985990  4.825613   3.195425  2.946383  7.387544  4.646112   5.305397   \n",
       "986002  0.277126  34.902151  1.649024  2.218413  2.991775  11.420737   \n",
       "986005  4.825613   3.195425  2.946383  7.387544  4.646112   5.305397   \n",
       "986017  0.277126  34.902151  1.649024  2.218413  2.991775  11.420737   \n",
       "986020  4.825613   3.195425  2.946383  7.387544  4.646112   5.305397   \n",
       "\n",
       "        mateMean     oppDirVar  oppDirMean  meanOppMateDistRatio  \\\n",
       "1       5.882770   2637.883442  193.817273              0.290676   \n",
       "15      5.882770   2637.883442  193.817273              0.290676   \n",
       "29      5.882770   2637.883442  193.817273              0.290676   \n",
       "43      5.882770   2637.883442  193.817273              0.290676   \n",
       "57      5.882770   2637.883442  193.817273              0.290676   \n",
       "...          ...           ...         ...                   ...   \n",
       "985990  4.275220   9753.260261  117.056000              4.285052   \n",
       "986002  5.478244  23325.734304  159.538750              0.517298   \n",
       "986005  4.275220   9753.260261  117.056000              4.285052   \n",
       "986017  5.478244  23325.734304  159.538750              0.517298   \n",
       "986020  4.275220   9753.260261  117.056000              4.285052   \n",
       "\n",
       "        varOppMateDistRatio  \n",
       "1                  0.000005  \n",
       "15                 0.000005  \n",
       "29                 0.000005  \n",
       "43                 0.000005  \n",
       "57                 0.000005  \n",
       "...                     ...  \n",
       "985990             7.803512  \n",
       "986002             0.068297  \n",
       "986005             7.803512  \n",
       "986017             0.068297  \n",
       "986020             7.803512  \n",
       "\n",
       "[63728 rows x 11 columns]"
      ]
     },
     "execution_count": 176,
     "metadata": {},
     "output_type": "execute_result"
    }
   ],
   "source": []
  },
  {
   "cell_type": "code",
   "execution_count": null,
   "metadata": {},
   "outputs": [],
   "source": []
  },
  {
   "cell_type": "code",
   "execution_count": null,
   "metadata": {},
   "outputs": [],
   "source": []
  },
  {
   "cell_type": "markdown",
   "metadata": {},
   "source": [
    "# Defensive back coverage classification"
   ]
  },
  {
   "cell_type": "code",
   "execution_count": 177,
   "metadata": {},
   "outputs": [],
   "source": [
    "Xdb = weekMod.loc[weekMod['position']=='DB'][weekMod.columns[30:]].dropna()"
   ]
  },
  {
   "cell_type": "code",
   "execution_count": null,
   "metadata": {},
   "outputs": [],
   "source": []
  },
  {
   "cell_type": "markdown",
   "metadata": {},
   "source": [
    "# now analyzing linebacker coverages"
   ]
  },
  {
   "cell_type": "code",
   "execution_count": 178,
   "metadata": {},
   "outputs": [],
   "source": [
    "Xlb = weekMod.loc[(weekMod['position'].isin(['MLB','LB', 'OLB', 'ILB']))][weekMod.columns[30:]].dropna()\n"
   ]
  }
 ],
 "metadata": {
  "kernelspec": {
   "display_name": "Python 3",
   "language": "python",
   "name": "python3"
  },
  "language_info": {
   "codemirror_mode": {
    "name": "ipython",
    "version": 3
   },
   "file_extension": ".py",
   "mimetype": "text/x-python",
   "name": "python",
   "nbconvert_exporter": "python",
   "pygments_lexer": "ipython3",
   "version": "3.8.3"
  }
 },
 "nbformat": 4,
 "nbformat_minor": 2
}

